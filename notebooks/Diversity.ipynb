{
 "cells": [
  {
   "cell_type": "code",
   "execution_count": 21,
   "metadata": {},
   "outputs": [],
   "source": [
    "from scipy.spatial import distance\n",
    "import pickle\n",
    "import numpy as np\n",
    "\n",
    "import colorcet as cc\n",
    "\n",
    "import matplotlib.pyplot as plt\n",
    "from matplotlib.ticker import StrMethodFormatter\n",
    "import matplotlib.font_manager as fm\n",
    "\n",
    "import pandas as pd"
   ]
  },
  {
   "cell_type": "markdown",
   "metadata": {},
   "source": [
    "# Data exploration"
   ]
  },
  {
   "cell_type": "code",
   "execution_count": 3,
   "metadata": {},
   "outputs": [],
   "source": [
    "#raw data\n",
    "with open('/home/balla/yeoncham/data/nkis.pkl', 'rb') as f:\n",
    "    data = pickle.load(f)"
   ]
  },
  {
   "cell_type": "code",
   "execution_count": 4,
   "metadata": {},
   "outputs": [
    {
     "data": {
      "text/html": [
       "<div>\n",
       "<style scoped>\n",
       "    .dataframe tbody tr th:only-of-type {\n",
       "        vertical-align: middle;\n",
       "    }\n",
       "\n",
       "    .dataframe tbody tr th {\n",
       "        vertical-align: top;\n",
       "    }\n",
       "\n",
       "    .dataframe thead th {\n",
       "        text-align: right;\n",
       "    }\n",
       "</style>\n",
       "<table border=\"1\" class=\"dataframe\">\n",
       "  <thead>\n",
       "    <tr style=\"text-align: right;\">\n",
       "      <th></th>\n",
       "      <th>보고서명</th>\n",
       "      <th>등록기관</th>\n",
       "      <th>출판년도</th>\n",
       "      <th>국문초록</th>\n",
       "      <th>핵심키워드</th>\n",
       "      <th>전체</th>\n",
       "    </tr>\n",
       "  </thead>\n",
       "  <tbody>\n",
       "    <tr>\n",
       "      <td>0</td>\n",
       "      <td>[세기, 생물, 산업, 창조, 일본, 정부, 기본, 전략, 프로젝트]</td>\n",
       "      <td>과학기술정책연구원</td>\n",
       "      <td>2000</td>\n",
       "      <td>[[지금, 경제, 구조, 변혁, 창조, 행동, 계획, 월, 각료, 회의, 결정, 라...</td>\n",
       "      <td>[바이오테크놀로지, 산업, 세기, 생물, 산업, 창조, 일본, 정부, 기본, 전략,...</td>\n",
       "      <td>[세기, 생물, 산업, 창조, 일본, 정부, 기본, 전략, 프로젝트, 지금, 경제,...</td>\n",
       "    </tr>\n",
       "    <tr>\n",
       "      <td>1</td>\n",
       "      <td>[EU, 연구, 개발, 정책, 동향]</td>\n",
       "      <td>과학기술정책연구원</td>\n",
       "      <td>2000</td>\n",
       "      <td>[[EU, 미국, 일본, 세계, 과학, 기술, 발전, 주도, 국가, OECD, 연구...</td>\n",
       "      <td>[EU, 연구, 개발, 정책, 동향]</td>\n",
       "      <td>[EU, 연구, 개발, 정책, 동향, EU, 미국, 일본, 세계, 과학, 기술, 발...</td>\n",
       "    </tr>\n",
       "    <tr>\n",
       "      <td>2</td>\n",
       "      <td>[PBS, 관련, 개념, 적용, 조건]</td>\n",
       "      <td>과학기술정책연구원</td>\n",
       "      <td>2000</td>\n",
       "      <td>[[년, 세계, 시장, 경쟁, 환경, 심화, 국가, 경쟁력, 노력, 가속, 시작],...</td>\n",
       "      <td>[PBS, 개념, 적용, 조건]</td>\n",
       "      <td>[PBS, 관련, 개념, 적용, 조건, 년, 세계, 시장, 경쟁, 환경, 심화, 국...</td>\n",
       "    </tr>\n",
       "    <tr>\n",
       "      <td>3</td>\n",
       "      <td>[알앤디, 평가, 시스템, 이론, 체계, 구축, 적용, 방, 안, 연구]</td>\n",
       "      <td>과학기술정책연구원</td>\n",
       "      <td>2000</td>\n",
       "      <td>[[연구, 연구, 개발, 활동, 연구, 개발, 평가, 자체, 효율, 결과, 효과, ...</td>\n",
       "      <td>[알앤디, 평가, 시스템, 이론, 체계, 구축, 적용, 방안]</td>\n",
       "      <td>[알앤디, 평가, 시스템, 이론, 체계, 구축, 적용, 방, 안, 연구, 연구, 연...</td>\n",
       "    </tr>\n",
       "    <tr>\n",
       "      <td>4</td>\n",
       "      <td>[개방, 모듈, 기술, 패러다임, 대응, 기술, 혁신, 전략, 리눅스, 중심]</td>\n",
       "      <td>과학기술정책연구원</td>\n",
       "      <td>2000</td>\n",
       "      <td>[[인터넷, 발전, 리눅스, 확산, 기술, 개발, 환경, 개방, openness, ...</td>\n",
       "      <td>[개방, 모듈, 기술, 패러다임, 기술, 혁신, 리눅스]</td>\n",
       "      <td>[개방, 모듈, 기술, 패러다임, 대응, 기술, 혁신, 전략, 리눅스, 중심, 인터...</td>\n",
       "    </tr>\n",
       "    <tr>\n",
       "      <td>...</td>\n",
       "      <td>...</td>\n",
       "      <td>...</td>\n",
       "      <td>...</td>\n",
       "      <td>...</td>\n",
       "      <td>...</td>\n",
       "      <td>...</td>\n",
       "    </tr>\n",
       "    <tr>\n",
       "      <td>21392</td>\n",
       "      <td>[생태, 공학, 기법, 활용, 지역, 단위, 생태, 보호, 지역, 확대, 방안]</td>\n",
       "      <td>한국환경정책·평가연구원</td>\n",
       "      <td>2018</td>\n",
       "      <td>[[연구, 생태, 보전, 생물, 다양, 보전, 증진, 생태, 지속, 가능, 이용, ...</td>\n",
       "      <td>[보호, 지역, 국립, 공원, 생태, 공학, 지역, 생태, 토지, 이용, 변화, 제주도]</td>\n",
       "      <td>[생태, 공학, 기법, 활용, 지역, 단위, 생태, 보호, 지역, 확대, 방안, 연...</td>\n",
       "    </tr>\n",
       "    <tr>\n",
       "      <td>21393</td>\n",
       "      <td>[가뭄, 지역, 농촌, 용수, 개발, 계획, 전략, 환경영향평가, 개선, 방안, 연...</td>\n",
       "      <td>한국환경정책·평가연구원</td>\n",
       "      <td>2018</td>\n",
       "      <td>[[연구, 가뭄, 지역, 농촌, 용수, 개발, 계획, 친환경, 지속, 가능, 이수,...</td>\n",
       "      <td>[전략, 환경영향평가, 농촌, 용수, 개발, 계획, 지하수, 지표수, 복합, 이용,...</td>\n",
       "      <td>[가뭄, 지역, 농촌, 용수, 개발, 계획, 전략, 환경영향평가, 개선, 방안, 연...</td>\n",
       "    </tr>\n",
       "    <tr>\n",
       "      <td>21394</td>\n",
       "      <td>[원자력, 시설, 해체, 부지, 사용, 환경, 관리, 전략, 토양, 지하수, 분야,...</td>\n",
       "      <td>한국환경정책·평가연구원</td>\n",
       "      <td>2018</td>\n",
       "      <td>[[고리, 호기, 영구, 정지, 해체, 확정, 월성, 호기, 조기, 폐쇄, 결정],...</td>\n",
       "      <td>[원자력, 시설, 해체, 사용, 환경, 관리, 토양, 지하수]</td>\n",
       "      <td>[원자력, 시설, 해체, 부지, 사용, 환경, 관리, 전략, 토양, 지하수, 분야,...</td>\n",
       "    </tr>\n",
       "    <tr>\n",
       "      <td>21395</td>\n",
       "      <td>[물, 환경, 개선, 용, 배수, 관리, 활용, 방안]</td>\n",
       "      <td>한국환경정책·평가연구원</td>\n",
       "      <td>2018</td>\n",
       "      <td>[[그동안, 우리나라, 하천, 관리, 재정, 투자, 대하, 추진], [대하, 본류,...</td>\n",
       "      <td>[물, 환경, 용수, 배수, 농업용수, 비점, 오염, 수질, 부하, 물, 관리, 일원]</td>\n",
       "      <td>[물, 환경, 개선, 용, 배수, 관리, 활용, 방안, 그동안, 우리나라, 하천, ...</td>\n",
       "    </tr>\n",
       "    <tr>\n",
       "      <td>21396</td>\n",
       "      <td>[농촌, 지역, 환경, 복지, 증진, 가축, 매몰, 피해, 관리, 방안, 연구]</td>\n",
       "      <td>한국환경정책·평가연구원</td>\n",
       "      <td>2018</td>\n",
       "      <td>[[과제, 다양, 복합, 환경, 경제, 사회, 피해, 최소, 적극, 대안, 마련, ...</td>\n",
       "      <td>[농촌, 지역, 환경, 복지, 가축, 매몰, 지역, 맞춤, 정책, 리빙, 랩, 협의...</td>\n",
       "      <td>[농촌, 지역, 환경, 복지, 증진, 가축, 매몰, 피해, 관리, 방안, 연구, 과...</td>\n",
       "    </tr>\n",
       "  </tbody>\n",
       "</table>\n",
       "<p>21397 rows × 6 columns</p>\n",
       "</div>"
      ],
      "text/plain": [
       "                                                    보고서명          등록기관  출판년도  \\\n",
       "0                 [세기, 생물, 산업, 창조, 일본, 정부, 기본, 전략, 프로젝트]     과학기술정책연구원  2000   \n",
       "1                                   [EU, 연구, 개발, 정책, 동향]     과학기술정책연구원  2000   \n",
       "2                                  [PBS, 관련, 개념, 적용, 조건]     과학기술정책연구원  2000   \n",
       "3               [알앤디, 평가, 시스템, 이론, 체계, 구축, 적용, 방, 안, 연구]     과학기술정책연구원  2000   \n",
       "4            [개방, 모듈, 기술, 패러다임, 대응, 기술, 혁신, 전략, 리눅스, 중심]     과학기술정책연구원  2000   \n",
       "...                                                  ...           ...   ...   \n",
       "21392       [생태, 공학, 기법, 활용, 지역, 단위, 생태, 보호, 지역, 확대, 방안]  한국환경정책·평가연구원  2018   \n",
       "21393  [가뭄, 지역, 농촌, 용수, 개발, 계획, 전략, 환경영향평가, 개선, 방안, 연...  한국환경정책·평가연구원  2018   \n",
       "21394  [원자력, 시설, 해체, 부지, 사용, 환경, 관리, 전략, 토양, 지하수, 분야,...  한국환경정책·평가연구원  2018   \n",
       "21395                     [물, 환경, 개선, 용, 배수, 관리, 활용, 방안]  한국환경정책·평가연구원  2018   \n",
       "21396       [농촌, 지역, 환경, 복지, 증진, 가축, 매몰, 피해, 관리, 방안, 연구]  한국환경정책·평가연구원  2018   \n",
       "\n",
       "                                                    국문초록  \\\n",
       "0      [[지금, 경제, 구조, 변혁, 창조, 행동, 계획, 월, 각료, 회의, 결정, 라...   \n",
       "1      [[EU, 미국, 일본, 세계, 과학, 기술, 발전, 주도, 국가, OECD, 연구...   \n",
       "2      [[년, 세계, 시장, 경쟁, 환경, 심화, 국가, 경쟁력, 노력, 가속, 시작],...   \n",
       "3      [[연구, 연구, 개발, 활동, 연구, 개발, 평가, 자체, 효율, 결과, 효과, ...   \n",
       "4      [[인터넷, 발전, 리눅스, 확산, 기술, 개발, 환경, 개방, openness, ...   \n",
       "...                                                  ...   \n",
       "21392  [[연구, 생태, 보전, 생물, 다양, 보전, 증진, 생태, 지속, 가능, 이용, ...   \n",
       "21393  [[연구, 가뭄, 지역, 농촌, 용수, 개발, 계획, 친환경, 지속, 가능, 이수,...   \n",
       "21394  [[고리, 호기, 영구, 정지, 해체, 확정, 월성, 호기, 조기, 폐쇄, 결정],...   \n",
       "21395  [[그동안, 우리나라, 하천, 관리, 재정, 투자, 대하, 추진], [대하, 본류,...   \n",
       "21396  [[과제, 다양, 복합, 환경, 경제, 사회, 피해, 최소, 적극, 대안, 마련, ...   \n",
       "\n",
       "                                                   핵심키워드  \\\n",
       "0      [바이오테크놀로지, 산업, 세기, 생물, 산업, 창조, 일본, 정부, 기본, 전략,...   \n",
       "1                                   [EU, 연구, 개발, 정책, 동향]   \n",
       "2                                      [PBS, 개념, 적용, 조건]   \n",
       "3                     [알앤디, 평가, 시스템, 이론, 체계, 구축, 적용, 방안]   \n",
       "4                        [개방, 모듈, 기술, 패러다임, 기술, 혁신, 리눅스]   \n",
       "...                                                  ...   \n",
       "21392  [보호, 지역, 국립, 공원, 생태, 공학, 지역, 생태, 토지, 이용, 변화, 제주도]   \n",
       "21393  [전략, 환경영향평가, 농촌, 용수, 개발, 계획, 지하수, 지표수, 복합, 이용,...   \n",
       "21394                 [원자력, 시설, 해체, 사용, 환경, 관리, 토양, 지하수]   \n",
       "21395   [물, 환경, 용수, 배수, 농업용수, 비점, 오염, 수질, 부하, 물, 관리, 일원]   \n",
       "21396  [농촌, 지역, 환경, 복지, 가축, 매몰, 지역, 맞춤, 정책, 리빙, 랩, 협의...   \n",
       "\n",
       "                                                      전체  \n",
       "0      [세기, 생물, 산업, 창조, 일본, 정부, 기본, 전략, 프로젝트, 지금, 경제,...  \n",
       "1      [EU, 연구, 개발, 정책, 동향, EU, 미국, 일본, 세계, 과학, 기술, 발...  \n",
       "2      [PBS, 관련, 개념, 적용, 조건, 년, 세계, 시장, 경쟁, 환경, 심화, 국...  \n",
       "3      [알앤디, 평가, 시스템, 이론, 체계, 구축, 적용, 방, 안, 연구, 연구, 연...  \n",
       "4      [개방, 모듈, 기술, 패러다임, 대응, 기술, 혁신, 전략, 리눅스, 중심, 인터...  \n",
       "...                                                  ...  \n",
       "21392  [생태, 공학, 기법, 활용, 지역, 단위, 생태, 보호, 지역, 확대, 방안, 연...  \n",
       "21393  [가뭄, 지역, 농촌, 용수, 개발, 계획, 전략, 환경영향평가, 개선, 방안, 연...  \n",
       "21394  [원자력, 시설, 해체, 부지, 사용, 환경, 관리, 전략, 토양, 지하수, 분야,...  \n",
       "21395  [물, 환경, 개선, 용, 배수, 관리, 활용, 방안, 그동안, 우리나라, 하천, ...  \n",
       "21396  [농촌, 지역, 환경, 복지, 증진, 가축, 매몰, 피해, 관리, 방안, 연구, 과...  \n",
       "\n",
       "[21397 rows x 6 columns]"
      ]
     },
     "execution_count": 4,
     "metadata": {},
     "output_type": "execute_result"
    }
   ],
   "source": [
    "data # report name, report institution, yeaer, abstract, keyword,"
   ]
  },
  {
   "cell_type": "code",
   "execution_count": 5,
   "metadata": {},
   "outputs": [],
   "source": [
    "#learned doc2vec\n",
    "from gensim.models.doc2vec import Doc2Vec, TaggedDocument\n",
    "model = Doc2Vec.load('/home/balla/yeoncham/data/test') "
   ]
  },
  {
   "cell_type": "code",
   "execution_count": 6,
   "metadata": {},
   "outputs": [
    {
     "name": "stdout",
     "output_type": "stream",
     "text": [
      "The number of documents is  21397\n",
      "The dimension of embedded vectors is 200\n"
     ]
    }
   ],
   "source": [
    "emb_vectors = np.array([model.docvecs[i] for i in range(model.docvecs.count)])\n",
    "print(\"The number of documents is \",len(emb_vectors))\n",
    "print(\"The dimension of embedded vectors is\", len(emb_vectors[0]))"
   ]
  },
  {
   "cell_type": "code",
   "execution_count": 13,
   "metadata": {},
   "outputs": [
    {
     "name": "stdout",
     "output_type": "stream",
     "text": [
      "The number of affiliation in english classified list is 27\n",
      "The number of affiliation in english classified abbreviation list is 27\n",
      "['에너지경제연구원', '한국교육개발원', '한국법제연구원', '한국청소년정책연구원', '한국농촌경제연구원', '한국해양수산개발원', '산업연구원', '한국환경정책·평가연구원', '대외경제정책연구원', '한국직업능력개발원', '한국교육과정평가원', '경제·인문사회연구회', '건축도시공간연구소', '한국교통연구원', 'KDI국제정책대학원', '한국개발연구원', '한국노동연구원', '한국조세재정연구원', '과학기술정책연구원', '국토연구원', '육아정책연구소', '한국형사정책연구원', '한국보건사회연구원', '한국행정연구원', '정보통신정책연구원', '한국여성정책연구원', '통일연구원']\n"
     ]
    }
   ],
   "source": [
    "#classified with related subject\n",
    "unique_affiliation_classified =['한국형사정책연구원','한국법제연구원','KDI국제정책대학원','대외경제정책연구원', '통일연구원','건축도시공간연구소', '한국교통연구원',  '국토연구원', '에너지경제연구원','한국해양수산개발원', '한국농촌경제연구원','한국환경정책·평가연구원','과학기술정책연구원', '정보통신정책연구원','산업연구원','한국개발연구원', '한국조세재정연구원','한국노동연구원','한국직업능력개발원', '한국교육개발원','한국교육과정평가원','한국청소년정책연구원', '육아정책연구소', '한국여성정책연구원', '한국보건사회연구원','경제·인문사회연구회', '한국행정연구원']\n",
    "\n",
    "#english name of unique_affiliation_classified\n",
    "unique_affiliation_classified_eng= ['Korean Institute of Criminology','Korea Legislation Research Institute','KDI School of Public Policy and Management','Korea Institute for International Economic Policy','Korea Institute for National Unification','Architecture & Urban Research Institute','The Korea Transport Institute','Korea Research Institute for Human Settlements','Korea Energy Economics Institute','Korea Maritime Institute','Korea Rural Economic Institute','Korea Environment Institute','Science & Technology Policy Institute','Korea Information Society Development Institute','Korea Institute for Industrial Economics & Trade','Korea Development Institute','Korea Institute of Public Finance','Korea Labour Institute','Korea Research Institute for Vocational Education and Training','Korean Educational Development Institute ','Korea Institute of Curriculum & Evaluation', 'National Youth Policy Institute','Korea Institute of Child Care and Education','Korean Women\\'s Development Institute','Korea Institute for Health and Social Affairs','National Research Council for Economics, Humanities and Social Sciences','Korea Institute of Public Administration']\n",
    "print(\"The number of affiliation in english classified list is\",len(unique_affiliation_classified_eng))\n",
    "\n",
    "#english abbreviation name of unique_affiliation_classified2\n",
    "unique_affiliation_classified_eng_abb=['KIC','KLRI','KDI School','KIEP','KINU','AURI','KOTI','KRIHS','KEEI','KMI','KREI','KEI','STEPI','KISDI','KIET','KDI','KIPF','KLI','KRIVET','KEDI','KICE','NYPI','KICCE','KWDI','KIHASA','NRC','KIPA']\n",
    "print(\"The number of affiliation in english classified abbreviation list is\",len(unique_affiliation_classified_eng_abb))\n",
    "\n",
    "unique_affiliation = list(set(data['등록기관']))\n",
    "print(unique_affiliation)"
   ]
  },
  {
   "cell_type": "code",
   "execution_count": 16,
   "metadata": {},
   "outputs": [],
   "source": [
    "# index number of each research institute\n",
    "index_by_affiliation = {}\n",
    "for affiliation in unique_affiliation:\n",
    "    index_by_affiliation[affiliation] = np.where(np.array(list(data['등록기관'])) == affiliation)"
   ]
  },
  {
   "cell_type": "code",
   "execution_count": 17,
   "metadata": {},
   "outputs": [],
   "source": [
    "dispersions = []\n",
    "for i, name in enumerate(unique_affiliation_classified):\n",
    "    vecs = np.array(emb_vectors[index_by_affiliation[name]])\n",
    "    mean_cordinate = np.mean(vecs,axis=0)\n",
    "    coisne_distances = [distance.cosine(vec, mean_cordinate) for vec in vecs]\n",
    "    dispersions.append((unique_affiliation_classified_eng_abb[unique_affiliation_classified.index(name)], np.mean(coisne_distances)))"
   ]
  },
  {
   "cell_type": "code",
   "execution_count": 18,
   "metadata": {},
   "outputs": [
    {
     "name": "stdout",
     "output_type": "stream",
     "text": [
      "[('KDI국제정책대학원', 0.19935879111289978), ('한국교육과정평가원', 0.42279573569558265), ('한국농촌경제연구원', 0.43409533364231473), ('통일연구원', 0.43538667032162087), ('건축도시공간연구소', 0.4397143735488256), ('한국교통연구원', 0.44306564492744227), ('한국형사정책연구원', 0.4448053899709836), ('한국청소년정책연구원', 0.44916786703854633), ('한국개발연구원', 0.4509210711182894), ('한국조세재정연구원', 0.4529680862539896), ('육아정책연구소', 0.4587669728921269), ('산업연구원', 0.46235898109473494), ('한국보건사회연구원', 0.46316410613545217), ('한국해양수산개발원', 0.47470055815577505), ('경제·인문사회연구회', 0.47824376786736367), ('한국직업능력개발원', 0.48385012879609424), ('에너지경제연구원', 0.4839570855454255), ('한국노동연구원', 0.49218745981201983), ('정보통신정책연구원', 0.49514635664130013), ('한국교육개발원', 0.4953348372847825), ('대외경제정책연구원', 0.49939270280710946), ('한국법제연구원', 0.49963371457760586), ('과학기술정책연구원', 0.5083055506245449), ('한국환경정책·평가연구원', 0.5211571665047997), ('한국행정연구원', 0.5282562750299439), ('국토연구원', 0.529276582992044), ('한국여성정책연구원', 0.5401107849309854)]\n"
     ]
    }
   ],
   "source": [
    "#affiliation ranking according to diversity in korean\n",
    "dispersions_kor = []\n",
    "for i, name in enumerate(unique_affiliation_classified):\n",
    "    vecs = np.array(emb_vectors[index_by_affiliation[name]])\n",
    "    mean_cordinate = np.mean(vecs,axis=0)\n",
    "    coisne_distances = [distance.cosine(vec, mean_cordinate) for vec in vecs]\n",
    "    dispersions_kor.append((name, np.mean(coisne_distances)))\n",
    "dispersions_kor.sort(key=lambda x: x[1])\n",
    "print(dispersions_kor)"
   ]
  },
  {
   "cell_type": "code",
   "execution_count": 19,
   "metadata": {},
   "outputs": [],
   "source": [
    "dispersions.sort(key=lambda x: x[1],reverse=True)"
   ]
  },
  {
   "cell_type": "code",
   "execution_count": 22,
   "metadata": {},
   "outputs": [
    {
     "ename": "FileNotFoundError",
     "evalue": "[Errno 2] No such file or directory: 'Helvetica 400.ttf'",
     "output_type": "error",
     "traceback": [
      "\u001b[0;31m---------------------------------------------------------------------------\u001b[0m",
      "\u001b[0;31mFileNotFoundError\u001b[0m                         Traceback (most recent call last)",
      "\u001b[0;32m<ipython-input-22-3800b3c31393>\u001b[0m in \u001b[0;36m<module>\u001b[0;34m()\u001b[0m\n\u001b[1;32m     26\u001b[0m \u001b[0max\u001b[0m\u001b[0;34m.\u001b[0m\u001b[0mspines\u001b[0m\u001b[0;34m[\u001b[0m\u001b[0;34m'bottom'\u001b[0m\u001b[0;34m]\u001b[0m\u001b[0;34m.\u001b[0m\u001b[0mset_visible\u001b[0m\u001b[0;34m(\u001b[0m\u001b[0;32mFalse\u001b[0m\u001b[0;34m)\u001b[0m\u001b[0;34m\u001b[0m\u001b[0m\n\u001b[1;32m     27\u001b[0m \u001b[0max\u001b[0m\u001b[0;34m.\u001b[0m\u001b[0mspines\u001b[0m\u001b[0;34m[\u001b[0m\u001b[0;34m'left'\u001b[0m\u001b[0;34m]\u001b[0m\u001b[0;34m.\u001b[0m\u001b[0mset_visible\u001b[0m\u001b[0;34m(\u001b[0m\u001b[0;32mFalse\u001b[0m\u001b[0;34m)\u001b[0m\u001b[0;34m\u001b[0m\u001b[0m\n\u001b[0;32m---> 28\u001b[0;31m \u001b[0mplt\u001b[0m\u001b[0;34m.\u001b[0m\u001b[0msavefig\u001b[0m\u001b[0;34m(\u001b[0m\u001b[0;34m'test_bar.pdf'\u001b[0m\u001b[0;34m)\u001b[0m\u001b[0;34m\u001b[0m\u001b[0m\n\u001b[0m\u001b[1;32m     29\u001b[0m \u001b[0mplt\u001b[0m\u001b[0;34m.\u001b[0m\u001b[0mshow\u001b[0m\u001b[0;34m(\u001b[0m\u001b[0;34m)\u001b[0m\u001b[0;34m\u001b[0m\u001b[0m\n\u001b[1;32m     30\u001b[0m \u001b[0;34m\u001b[0m\u001b[0m\n",
      "\u001b[0;32m~/anaconda3/lib/python3.6/site-packages/matplotlib/pyplot.py\u001b[0m in \u001b[0;36msavefig\u001b[0;34m(*args, **kwargs)\u001b[0m\n\u001b[1;32m    708\u001b[0m \u001b[0;32mdef\u001b[0m \u001b[0msavefig\u001b[0m\u001b[0;34m(\u001b[0m\u001b[0;34m*\u001b[0m\u001b[0margs\u001b[0m\u001b[0;34m,\u001b[0m \u001b[0;34m**\u001b[0m\u001b[0mkwargs\u001b[0m\u001b[0;34m)\u001b[0m\u001b[0;34m:\u001b[0m\u001b[0;34m\u001b[0m\u001b[0m\n\u001b[1;32m    709\u001b[0m     \u001b[0mfig\u001b[0m \u001b[0;34m=\u001b[0m \u001b[0mgcf\u001b[0m\u001b[0;34m(\u001b[0m\u001b[0;34m)\u001b[0m\u001b[0;34m\u001b[0m\u001b[0m\n\u001b[0;32m--> 710\u001b[0;31m     \u001b[0mres\u001b[0m \u001b[0;34m=\u001b[0m \u001b[0mfig\u001b[0m\u001b[0;34m.\u001b[0m\u001b[0msavefig\u001b[0m\u001b[0;34m(\u001b[0m\u001b[0;34m*\u001b[0m\u001b[0margs\u001b[0m\u001b[0;34m,\u001b[0m \u001b[0;34m**\u001b[0m\u001b[0mkwargs\u001b[0m\u001b[0;34m)\u001b[0m\u001b[0;34m\u001b[0m\u001b[0m\n\u001b[0m\u001b[1;32m    711\u001b[0m     \u001b[0mfig\u001b[0m\u001b[0;34m.\u001b[0m\u001b[0mcanvas\u001b[0m\u001b[0;34m.\u001b[0m\u001b[0mdraw_idle\u001b[0m\u001b[0;34m(\u001b[0m\u001b[0;34m)\u001b[0m   \u001b[0;31m# need this if 'transparent=True' to reset colors\u001b[0m\u001b[0;34m\u001b[0m\u001b[0m\n\u001b[1;32m    712\u001b[0m     \u001b[0;32mreturn\u001b[0m \u001b[0mres\u001b[0m\u001b[0;34m\u001b[0m\u001b[0m\n",
      "\u001b[0;32m~/anaconda3/lib/python3.6/site-packages/matplotlib/figure.py\u001b[0m in \u001b[0;36msavefig\u001b[0;34m(self, fname, **kwargs)\u001b[0m\n\u001b[1;32m   2033\u001b[0m             \u001b[0mself\u001b[0m\u001b[0;34m.\u001b[0m\u001b[0mset_frameon\u001b[0m\u001b[0;34m(\u001b[0m\u001b[0mframeon\u001b[0m\u001b[0;34m)\u001b[0m\u001b[0;34m\u001b[0m\u001b[0m\n\u001b[1;32m   2034\u001b[0m \u001b[0;34m\u001b[0m\u001b[0m\n\u001b[0;32m-> 2035\u001b[0;31m         \u001b[0mself\u001b[0m\u001b[0;34m.\u001b[0m\u001b[0mcanvas\u001b[0m\u001b[0;34m.\u001b[0m\u001b[0mprint_figure\u001b[0m\u001b[0;34m(\u001b[0m\u001b[0mfname\u001b[0m\u001b[0;34m,\u001b[0m \u001b[0;34m**\u001b[0m\u001b[0mkwargs\u001b[0m\u001b[0;34m)\u001b[0m\u001b[0;34m\u001b[0m\u001b[0m\n\u001b[0m\u001b[1;32m   2036\u001b[0m \u001b[0;34m\u001b[0m\u001b[0m\n\u001b[1;32m   2037\u001b[0m         \u001b[0;32mif\u001b[0m \u001b[0mframeon\u001b[0m\u001b[0;34m:\u001b[0m\u001b[0;34m\u001b[0m\u001b[0m\n",
      "\u001b[0;32m~/anaconda3/lib/python3.6/site-packages/matplotlib/backend_bases.py\u001b[0m in \u001b[0;36mprint_figure\u001b[0;34m(self, filename, dpi, facecolor, edgecolor, orientation, format, **kwargs)\u001b[0m\n\u001b[1;32m   2259\u001b[0m                 \u001b[0morientation\u001b[0m\u001b[0;34m=\u001b[0m\u001b[0morientation\u001b[0m\u001b[0;34m,\u001b[0m\u001b[0;34m\u001b[0m\u001b[0m\n\u001b[1;32m   2260\u001b[0m                 \u001b[0mbbox_inches_restore\u001b[0m\u001b[0;34m=\u001b[0m\u001b[0m_bbox_inches_restore\u001b[0m\u001b[0;34m,\u001b[0m\u001b[0;34m\u001b[0m\u001b[0m\n\u001b[0;32m-> 2261\u001b[0;31m                 **kwargs)\n\u001b[0m\u001b[1;32m   2262\u001b[0m         \u001b[0;32mfinally\u001b[0m\u001b[0;34m:\u001b[0m\u001b[0;34m\u001b[0m\u001b[0m\n\u001b[1;32m   2263\u001b[0m             \u001b[0;32mif\u001b[0m \u001b[0mbbox_inches\u001b[0m \u001b[0;32mand\u001b[0m \u001b[0mrestore_bbox\u001b[0m\u001b[0;34m:\u001b[0m\u001b[0;34m\u001b[0m\u001b[0m\n",
      "\u001b[0;32m~/anaconda3/lib/python3.6/site-packages/matplotlib/backends/backend_pdf.py\u001b[0m in \u001b[0;36mprint_pdf\u001b[0;34m(self, filename, **kwargs)\u001b[0m\n\u001b[1;32m   2584\u001b[0m                 \u001b[0mRendererPdf\u001b[0m\u001b[0;34m(\u001b[0m\u001b[0mfile\u001b[0m\u001b[0;34m,\u001b[0m \u001b[0mimage_dpi\u001b[0m\u001b[0;34m,\u001b[0m \u001b[0mheight\u001b[0m\u001b[0;34m,\u001b[0m \u001b[0mwidth\u001b[0m\u001b[0;34m)\u001b[0m\u001b[0;34m,\u001b[0m\u001b[0;34m\u001b[0m\u001b[0m\n\u001b[1;32m   2585\u001b[0m                 bbox_inches_restore=_bbox_inches_restore)\n\u001b[0;32m-> 2586\u001b[0;31m             \u001b[0mself\u001b[0m\u001b[0;34m.\u001b[0m\u001b[0mfigure\u001b[0m\u001b[0;34m.\u001b[0m\u001b[0mdraw\u001b[0m\u001b[0;34m(\u001b[0m\u001b[0mrenderer\u001b[0m\u001b[0;34m)\u001b[0m\u001b[0;34m\u001b[0m\u001b[0m\n\u001b[0m\u001b[1;32m   2587\u001b[0m             \u001b[0mrenderer\u001b[0m\u001b[0;34m.\u001b[0m\u001b[0mfinalize\u001b[0m\u001b[0;34m(\u001b[0m\u001b[0;34m)\u001b[0m\u001b[0;34m\u001b[0m\u001b[0m\n\u001b[1;32m   2588\u001b[0m             \u001b[0;32mif\u001b[0m \u001b[0;32mnot\u001b[0m \u001b[0misinstance\u001b[0m\u001b[0;34m(\u001b[0m\u001b[0mfilename\u001b[0m\u001b[0;34m,\u001b[0m \u001b[0mPdfPages\u001b[0m\u001b[0;34m)\u001b[0m\u001b[0;34m:\u001b[0m\u001b[0;34m\u001b[0m\u001b[0m\n",
      "\u001b[0;32m~/anaconda3/lib/python3.6/site-packages/matplotlib/artist.py\u001b[0m in \u001b[0;36mdraw_wrapper\u001b[0;34m(artist, renderer, *args, **kwargs)\u001b[0m\n\u001b[1;32m     53\u001b[0m                 \u001b[0mrenderer\u001b[0m\u001b[0;34m.\u001b[0m\u001b[0mstart_filter\u001b[0m\u001b[0;34m(\u001b[0m\u001b[0;34m)\u001b[0m\u001b[0;34m\u001b[0m\u001b[0m\n\u001b[1;32m     54\u001b[0m \u001b[0;34m\u001b[0m\u001b[0m\n\u001b[0;32m---> 55\u001b[0;31m             \u001b[0;32mreturn\u001b[0m \u001b[0mdraw\u001b[0m\u001b[0;34m(\u001b[0m\u001b[0martist\u001b[0m\u001b[0;34m,\u001b[0m \u001b[0mrenderer\u001b[0m\u001b[0;34m,\u001b[0m \u001b[0;34m*\u001b[0m\u001b[0margs\u001b[0m\u001b[0;34m,\u001b[0m \u001b[0;34m**\u001b[0m\u001b[0mkwargs\u001b[0m\u001b[0;34m)\u001b[0m\u001b[0;34m\u001b[0m\u001b[0m\n\u001b[0m\u001b[1;32m     56\u001b[0m         \u001b[0;32mfinally\u001b[0m\u001b[0;34m:\u001b[0m\u001b[0;34m\u001b[0m\u001b[0m\n\u001b[1;32m     57\u001b[0m             \u001b[0;32mif\u001b[0m \u001b[0martist\u001b[0m\u001b[0;34m.\u001b[0m\u001b[0mget_agg_filter\u001b[0m\u001b[0;34m(\u001b[0m\u001b[0;34m)\u001b[0m \u001b[0;32mis\u001b[0m \u001b[0;32mnot\u001b[0m \u001b[0;32mNone\u001b[0m\u001b[0;34m:\u001b[0m\u001b[0;34m\u001b[0m\u001b[0m\n",
      "\u001b[0;32m~/anaconda3/lib/python3.6/site-packages/matplotlib/figure.py\u001b[0m in \u001b[0;36mdraw\u001b[0;34m(self, renderer)\u001b[0m\n\u001b[1;32m   1473\u001b[0m \u001b[0;34m\u001b[0m\u001b[0m\n\u001b[1;32m   1474\u001b[0m             mimage._draw_list_compositing_images(\n\u001b[0;32m-> 1475\u001b[0;31m                 renderer, self, artists, self.suppressComposite)\n\u001b[0m\u001b[1;32m   1476\u001b[0m \u001b[0;34m\u001b[0m\u001b[0m\n\u001b[1;32m   1477\u001b[0m             \u001b[0mrenderer\u001b[0m\u001b[0;34m.\u001b[0m\u001b[0mclose_group\u001b[0m\u001b[0;34m(\u001b[0m\u001b[0;34m'figure'\u001b[0m\u001b[0;34m)\u001b[0m\u001b[0;34m\u001b[0m\u001b[0m\n",
      "\u001b[0;32m~/anaconda3/lib/python3.6/site-packages/matplotlib/image.py\u001b[0m in \u001b[0;36m_draw_list_compositing_images\u001b[0;34m(renderer, parent, artists, suppress_composite)\u001b[0m\n\u001b[1;32m    139\u001b[0m     \u001b[0;32mif\u001b[0m \u001b[0mnot_composite\u001b[0m \u001b[0;32mor\u001b[0m \u001b[0;32mnot\u001b[0m \u001b[0mhas_images\u001b[0m\u001b[0;34m:\u001b[0m\u001b[0;34m\u001b[0m\u001b[0m\n\u001b[1;32m    140\u001b[0m         \u001b[0;32mfor\u001b[0m \u001b[0ma\u001b[0m \u001b[0;32min\u001b[0m \u001b[0martists\u001b[0m\u001b[0;34m:\u001b[0m\u001b[0;34m\u001b[0m\u001b[0m\n\u001b[0;32m--> 141\u001b[0;31m             \u001b[0ma\u001b[0m\u001b[0;34m.\u001b[0m\u001b[0mdraw\u001b[0m\u001b[0;34m(\u001b[0m\u001b[0mrenderer\u001b[0m\u001b[0;34m)\u001b[0m\u001b[0;34m\u001b[0m\u001b[0m\n\u001b[0m\u001b[1;32m    142\u001b[0m     \u001b[0;32melse\u001b[0m\u001b[0;34m:\u001b[0m\u001b[0;34m\u001b[0m\u001b[0m\n\u001b[1;32m    143\u001b[0m         \u001b[0;31m# Composite any adjacent images together\u001b[0m\u001b[0;34m\u001b[0m\u001b[0;34m\u001b[0m\u001b[0m\n",
      "\u001b[0;32m~/anaconda3/lib/python3.6/site-packages/matplotlib/artist.py\u001b[0m in \u001b[0;36mdraw_wrapper\u001b[0;34m(artist, renderer, *args, **kwargs)\u001b[0m\n\u001b[1;32m     53\u001b[0m                 \u001b[0mrenderer\u001b[0m\u001b[0;34m.\u001b[0m\u001b[0mstart_filter\u001b[0m\u001b[0;34m(\u001b[0m\u001b[0;34m)\u001b[0m\u001b[0;34m\u001b[0m\u001b[0m\n\u001b[1;32m     54\u001b[0m \u001b[0;34m\u001b[0m\u001b[0m\n\u001b[0;32m---> 55\u001b[0;31m             \u001b[0;32mreturn\u001b[0m \u001b[0mdraw\u001b[0m\u001b[0;34m(\u001b[0m\u001b[0martist\u001b[0m\u001b[0;34m,\u001b[0m \u001b[0mrenderer\u001b[0m\u001b[0;34m,\u001b[0m \u001b[0;34m*\u001b[0m\u001b[0margs\u001b[0m\u001b[0;34m,\u001b[0m \u001b[0;34m**\u001b[0m\u001b[0mkwargs\u001b[0m\u001b[0;34m)\u001b[0m\u001b[0;34m\u001b[0m\u001b[0m\n\u001b[0m\u001b[1;32m     56\u001b[0m         \u001b[0;32mfinally\u001b[0m\u001b[0;34m:\u001b[0m\u001b[0;34m\u001b[0m\u001b[0m\n\u001b[1;32m     57\u001b[0m             \u001b[0;32mif\u001b[0m \u001b[0martist\u001b[0m\u001b[0;34m.\u001b[0m\u001b[0mget_agg_filter\u001b[0m\u001b[0;34m(\u001b[0m\u001b[0;34m)\u001b[0m \u001b[0;32mis\u001b[0m \u001b[0;32mnot\u001b[0m \u001b[0;32mNone\u001b[0m\u001b[0;34m:\u001b[0m\u001b[0;34m\u001b[0m\u001b[0m\n",
      "\u001b[0;32m~/anaconda3/lib/python3.6/site-packages/matplotlib/axes/_base.py\u001b[0m in \u001b[0;36mdraw\u001b[0;34m(self, renderer, inframe)\u001b[0m\n\u001b[1;32m   2605\u001b[0m             \u001b[0mrenderer\u001b[0m\u001b[0;34m.\u001b[0m\u001b[0mstop_rasterizing\u001b[0m\u001b[0;34m(\u001b[0m\u001b[0;34m)\u001b[0m\u001b[0;34m\u001b[0m\u001b[0m\n\u001b[1;32m   2606\u001b[0m \u001b[0;34m\u001b[0m\u001b[0m\n\u001b[0;32m-> 2607\u001b[0;31m         \u001b[0mmimage\u001b[0m\u001b[0;34m.\u001b[0m\u001b[0m_draw_list_compositing_images\u001b[0m\u001b[0;34m(\u001b[0m\u001b[0mrenderer\u001b[0m\u001b[0;34m,\u001b[0m \u001b[0mself\u001b[0m\u001b[0;34m,\u001b[0m \u001b[0martists\u001b[0m\u001b[0;34m)\u001b[0m\u001b[0;34m\u001b[0m\u001b[0m\n\u001b[0m\u001b[1;32m   2608\u001b[0m \u001b[0;34m\u001b[0m\u001b[0m\n\u001b[1;32m   2609\u001b[0m         \u001b[0mrenderer\u001b[0m\u001b[0;34m.\u001b[0m\u001b[0mclose_group\u001b[0m\u001b[0;34m(\u001b[0m\u001b[0;34m'axes'\u001b[0m\u001b[0;34m)\u001b[0m\u001b[0;34m\u001b[0m\u001b[0m\n",
      "\u001b[0;32m~/anaconda3/lib/python3.6/site-packages/matplotlib/image.py\u001b[0m in \u001b[0;36m_draw_list_compositing_images\u001b[0;34m(renderer, parent, artists, suppress_composite)\u001b[0m\n\u001b[1;32m    139\u001b[0m     \u001b[0;32mif\u001b[0m \u001b[0mnot_composite\u001b[0m \u001b[0;32mor\u001b[0m \u001b[0;32mnot\u001b[0m \u001b[0mhas_images\u001b[0m\u001b[0;34m:\u001b[0m\u001b[0;34m\u001b[0m\u001b[0m\n\u001b[1;32m    140\u001b[0m         \u001b[0;32mfor\u001b[0m \u001b[0ma\u001b[0m \u001b[0;32min\u001b[0m \u001b[0martists\u001b[0m\u001b[0;34m:\u001b[0m\u001b[0;34m\u001b[0m\u001b[0m\n\u001b[0;32m--> 141\u001b[0;31m             \u001b[0ma\u001b[0m\u001b[0;34m.\u001b[0m\u001b[0mdraw\u001b[0m\u001b[0;34m(\u001b[0m\u001b[0mrenderer\u001b[0m\u001b[0;34m)\u001b[0m\u001b[0;34m\u001b[0m\u001b[0m\n\u001b[0m\u001b[1;32m    142\u001b[0m     \u001b[0;32melse\u001b[0m\u001b[0;34m:\u001b[0m\u001b[0;34m\u001b[0m\u001b[0m\n\u001b[1;32m    143\u001b[0m         \u001b[0;31m# Composite any adjacent images together\u001b[0m\u001b[0;34m\u001b[0m\u001b[0;34m\u001b[0m\u001b[0m\n",
      "\u001b[0;32m~/anaconda3/lib/python3.6/site-packages/matplotlib/artist.py\u001b[0m in \u001b[0;36mdraw_wrapper\u001b[0;34m(artist, renderer, *args, **kwargs)\u001b[0m\n\u001b[1;32m     53\u001b[0m                 \u001b[0mrenderer\u001b[0m\u001b[0;34m.\u001b[0m\u001b[0mstart_filter\u001b[0m\u001b[0;34m(\u001b[0m\u001b[0;34m)\u001b[0m\u001b[0;34m\u001b[0m\u001b[0m\n\u001b[1;32m     54\u001b[0m \u001b[0;34m\u001b[0m\u001b[0m\n\u001b[0;32m---> 55\u001b[0;31m             \u001b[0;32mreturn\u001b[0m \u001b[0mdraw\u001b[0m\u001b[0;34m(\u001b[0m\u001b[0martist\u001b[0m\u001b[0;34m,\u001b[0m \u001b[0mrenderer\u001b[0m\u001b[0;34m,\u001b[0m \u001b[0;34m*\u001b[0m\u001b[0margs\u001b[0m\u001b[0;34m,\u001b[0m \u001b[0;34m**\u001b[0m\u001b[0mkwargs\u001b[0m\u001b[0;34m)\u001b[0m\u001b[0;34m\u001b[0m\u001b[0m\n\u001b[0m\u001b[1;32m     56\u001b[0m         \u001b[0;32mfinally\u001b[0m\u001b[0;34m:\u001b[0m\u001b[0;34m\u001b[0m\u001b[0m\n\u001b[1;32m     57\u001b[0m             \u001b[0;32mif\u001b[0m \u001b[0martist\u001b[0m\u001b[0;34m.\u001b[0m\u001b[0mget_agg_filter\u001b[0m\u001b[0;34m(\u001b[0m\u001b[0;34m)\u001b[0m \u001b[0;32mis\u001b[0m \u001b[0;32mnot\u001b[0m \u001b[0;32mNone\u001b[0m\u001b[0;34m:\u001b[0m\u001b[0;34m\u001b[0m\u001b[0m\n",
      "\u001b[0;32m~/anaconda3/lib/python3.6/site-packages/matplotlib/axis.py\u001b[0m in \u001b[0;36mdraw\u001b[0;34m(self, renderer, *args, **kwargs)\u001b[0m\n\u001b[1;32m   1187\u001b[0m         \u001b[0mticks_to_draw\u001b[0m \u001b[0;34m=\u001b[0m \u001b[0mself\u001b[0m\u001b[0;34m.\u001b[0m\u001b[0m_update_ticks\u001b[0m\u001b[0;34m(\u001b[0m\u001b[0mrenderer\u001b[0m\u001b[0;34m)\u001b[0m\u001b[0;34m\u001b[0m\u001b[0m\n\u001b[1;32m   1188\u001b[0m         ticklabelBoxes, ticklabelBoxes2 = self._get_tick_bboxes(ticks_to_draw,\n\u001b[0;32m-> 1189\u001b[0;31m                                                                 renderer)\n\u001b[0m\u001b[1;32m   1190\u001b[0m \u001b[0;34m\u001b[0m\u001b[0m\n\u001b[1;32m   1191\u001b[0m         \u001b[0;32mfor\u001b[0m \u001b[0mtick\u001b[0m \u001b[0;32min\u001b[0m \u001b[0mticks_to_draw\u001b[0m\u001b[0;34m:\u001b[0m\u001b[0;34m\u001b[0m\u001b[0m\n",
      "\u001b[0;32m~/anaconda3/lib/python3.6/site-packages/matplotlib/axis.py\u001b[0m in \u001b[0;36m_get_tick_bboxes\u001b[0;34m(self, ticks, renderer)\u001b[0m\n\u001b[1;32m   1125\u001b[0m         \u001b[0;32mfor\u001b[0m \u001b[0mtick\u001b[0m \u001b[0;32min\u001b[0m \u001b[0mticks\u001b[0m\u001b[0;34m:\u001b[0m\u001b[0;34m\u001b[0m\u001b[0m\n\u001b[1;32m   1126\u001b[0m             \u001b[0;32mif\u001b[0m \u001b[0mtick\u001b[0m\u001b[0;34m.\u001b[0m\u001b[0mlabel1On\u001b[0m \u001b[0;32mand\u001b[0m \u001b[0mtick\u001b[0m\u001b[0;34m.\u001b[0m\u001b[0mlabel1\u001b[0m\u001b[0;34m.\u001b[0m\u001b[0mget_visible\u001b[0m\u001b[0;34m(\u001b[0m\u001b[0;34m)\u001b[0m\u001b[0;34m:\u001b[0m\u001b[0;34m\u001b[0m\u001b[0m\n\u001b[0;32m-> 1127\u001b[0;31m                 \u001b[0mextent\u001b[0m \u001b[0;34m=\u001b[0m \u001b[0mtick\u001b[0m\u001b[0;34m.\u001b[0m\u001b[0mlabel1\u001b[0m\u001b[0;34m.\u001b[0m\u001b[0mget_window_extent\u001b[0m\u001b[0;34m(\u001b[0m\u001b[0mrenderer\u001b[0m\u001b[0;34m)\u001b[0m\u001b[0;34m\u001b[0m\u001b[0m\n\u001b[0m\u001b[1;32m   1128\u001b[0m                 \u001b[0mticklabelBoxes\u001b[0m\u001b[0;34m.\u001b[0m\u001b[0mappend\u001b[0m\u001b[0;34m(\u001b[0m\u001b[0mextent\u001b[0m\u001b[0;34m)\u001b[0m\u001b[0;34m\u001b[0m\u001b[0m\n\u001b[1;32m   1129\u001b[0m             \u001b[0;32mif\u001b[0m \u001b[0mtick\u001b[0m\u001b[0;34m.\u001b[0m\u001b[0mlabel2On\u001b[0m \u001b[0;32mand\u001b[0m \u001b[0mtick\u001b[0m\u001b[0;34m.\u001b[0m\u001b[0mlabel2\u001b[0m\u001b[0;34m.\u001b[0m\u001b[0mget_visible\u001b[0m\u001b[0;34m(\u001b[0m\u001b[0;34m)\u001b[0m\u001b[0;34m:\u001b[0m\u001b[0;34m\u001b[0m\u001b[0m\n",
      "\u001b[0;32m~/anaconda3/lib/python3.6/site-packages/matplotlib/text.py\u001b[0m in \u001b[0;36mget_window_extent\u001b[0;34m(self, renderer, dpi)\u001b[0m\n\u001b[1;32m    920\u001b[0m             \u001b[0;32mraise\u001b[0m \u001b[0mRuntimeError\u001b[0m\u001b[0;34m(\u001b[0m\u001b[0;34m'Cannot get window extent w/o renderer'\u001b[0m\u001b[0;34m)\u001b[0m\u001b[0;34m\u001b[0m\u001b[0m\n\u001b[1;32m    921\u001b[0m \u001b[0;34m\u001b[0m\u001b[0m\n\u001b[0;32m--> 922\u001b[0;31m         \u001b[0mbbox\u001b[0m\u001b[0;34m,\u001b[0m \u001b[0minfo\u001b[0m\u001b[0;34m,\u001b[0m \u001b[0mdescent\u001b[0m \u001b[0;34m=\u001b[0m \u001b[0mself\u001b[0m\u001b[0;34m.\u001b[0m\u001b[0m_get_layout\u001b[0m\u001b[0;34m(\u001b[0m\u001b[0mself\u001b[0m\u001b[0;34m.\u001b[0m\u001b[0m_renderer\u001b[0m\u001b[0;34m)\u001b[0m\u001b[0;34m\u001b[0m\u001b[0m\n\u001b[0m\u001b[1;32m    923\u001b[0m         \u001b[0mx\u001b[0m\u001b[0;34m,\u001b[0m \u001b[0my\u001b[0m \u001b[0;34m=\u001b[0m \u001b[0mself\u001b[0m\u001b[0;34m.\u001b[0m\u001b[0mget_unitless_position\u001b[0m\u001b[0;34m(\u001b[0m\u001b[0;34m)\u001b[0m\u001b[0;34m\u001b[0m\u001b[0m\n\u001b[1;32m    924\u001b[0m         \u001b[0mx\u001b[0m\u001b[0;34m,\u001b[0m \u001b[0my\u001b[0m \u001b[0;34m=\u001b[0m \u001b[0mself\u001b[0m\u001b[0;34m.\u001b[0m\u001b[0mget_transform\u001b[0m\u001b[0;34m(\u001b[0m\u001b[0;34m)\u001b[0m\u001b[0;34m.\u001b[0m\u001b[0mtransform_point\u001b[0m\u001b[0;34m(\u001b[0m\u001b[0;34m(\u001b[0m\u001b[0mx\u001b[0m\u001b[0;34m,\u001b[0m \u001b[0my\u001b[0m\u001b[0;34m)\u001b[0m\u001b[0;34m)\u001b[0m\u001b[0;34m\u001b[0m\u001b[0m\n",
      "\u001b[0;32m~/anaconda3/lib/python3.6/site-packages/matplotlib/text.py\u001b[0m in \u001b[0;36m_get_layout\u001b[0;34m(self, renderer)\u001b[0m\n\u001b[1;32m    298\u001b[0m         tmp, lp_h, lp_bl = renderer.get_text_width_height_descent('lp',\n\u001b[1;32m    299\u001b[0m                                                          \u001b[0mself\u001b[0m\u001b[0;34m.\u001b[0m\u001b[0m_fontproperties\u001b[0m\u001b[0;34m,\u001b[0m\u001b[0;34m\u001b[0m\u001b[0m\n\u001b[0;32m--> 300\u001b[0;31m                                                          ismath=False)\n\u001b[0m\u001b[1;32m    301\u001b[0m         \u001b[0moffsety\u001b[0m \u001b[0;34m=\u001b[0m \u001b[0;34m(\u001b[0m\u001b[0mlp_h\u001b[0m \u001b[0;34m-\u001b[0m \u001b[0mlp_bl\u001b[0m\u001b[0;34m)\u001b[0m \u001b[0;34m*\u001b[0m \u001b[0mself\u001b[0m\u001b[0;34m.\u001b[0m\u001b[0m_linespacing\u001b[0m\u001b[0;34m\u001b[0m\u001b[0m\n\u001b[1;32m    302\u001b[0m \u001b[0;34m\u001b[0m\u001b[0m\n",
      "\u001b[0;32m~/anaconda3/lib/python3.6/site-packages/matplotlib/backends/backend_pdf.py\u001b[0m in \u001b[0;36mget_text_width_height_descent\u001b[0;34m(self, s, prop, ismath)\u001b[0m\n\u001b[1;32m   2161\u001b[0m             \u001b[0md\u001b[0m \u001b[0;34m*=\u001b[0m \u001b[0mscale\u001b[0m \u001b[0;34m/\u001b[0m \u001b[0;36m1000\u001b[0m\u001b[0;34m\u001b[0m\u001b[0m\n\u001b[1;32m   2162\u001b[0m         \u001b[0;32melse\u001b[0m\u001b[0;34m:\u001b[0m\u001b[0;34m\u001b[0m\u001b[0m\n\u001b[0;32m-> 2163\u001b[0;31m             \u001b[0mfont\u001b[0m \u001b[0;34m=\u001b[0m \u001b[0mself\u001b[0m\u001b[0;34m.\u001b[0m\u001b[0m_get_font_ttf\u001b[0m\u001b[0;34m(\u001b[0m\u001b[0mprop\u001b[0m\u001b[0;34m)\u001b[0m\u001b[0;34m\u001b[0m\u001b[0m\n\u001b[0m\u001b[1;32m   2164\u001b[0m             \u001b[0mfont\u001b[0m\u001b[0;34m.\u001b[0m\u001b[0mset_text\u001b[0m\u001b[0;34m(\u001b[0m\u001b[0ms\u001b[0m\u001b[0;34m,\u001b[0m \u001b[0;36m0.0\u001b[0m\u001b[0;34m,\u001b[0m \u001b[0mflags\u001b[0m\u001b[0;34m=\u001b[0m\u001b[0mLOAD_NO_HINTING\u001b[0m\u001b[0;34m)\u001b[0m\u001b[0;34m\u001b[0m\u001b[0m\n\u001b[1;32m   2165\u001b[0m             \u001b[0mw\u001b[0m\u001b[0;34m,\u001b[0m \u001b[0mh\u001b[0m \u001b[0;34m=\u001b[0m \u001b[0mfont\u001b[0m\u001b[0;34m.\u001b[0m\u001b[0mget_width_height\u001b[0m\u001b[0;34m(\u001b[0m\u001b[0;34m)\u001b[0m\u001b[0;34m\u001b[0m\u001b[0m\n",
      "\u001b[0;32m~/anaconda3/lib/python3.6/site-packages/matplotlib/backends/backend_pdf.py\u001b[0m in \u001b[0;36m_get_font_ttf\u001b[0;34m(self, prop)\u001b[0m\n\u001b[1;32m   2191\u001b[0m     \u001b[0;32mdef\u001b[0m \u001b[0m_get_font_ttf\u001b[0m\u001b[0;34m(\u001b[0m\u001b[0mself\u001b[0m\u001b[0;34m,\u001b[0m \u001b[0mprop\u001b[0m\u001b[0;34m)\u001b[0m\u001b[0;34m:\u001b[0m\u001b[0;34m\u001b[0m\u001b[0m\n\u001b[1;32m   2192\u001b[0m         \u001b[0mfilename\u001b[0m \u001b[0;34m=\u001b[0m \u001b[0mfindfont\u001b[0m\u001b[0;34m(\u001b[0m\u001b[0mprop\u001b[0m\u001b[0;34m)\u001b[0m\u001b[0;34m\u001b[0m\u001b[0m\n\u001b[0;32m-> 2193\u001b[0;31m         \u001b[0mfont\u001b[0m \u001b[0;34m=\u001b[0m \u001b[0mget_font\u001b[0m\u001b[0;34m(\u001b[0m\u001b[0mfilename\u001b[0m\u001b[0;34m)\u001b[0m\u001b[0;34m\u001b[0m\u001b[0m\n\u001b[0m\u001b[1;32m   2194\u001b[0m         \u001b[0mfont\u001b[0m\u001b[0;34m.\u001b[0m\u001b[0mclear\u001b[0m\u001b[0;34m(\u001b[0m\u001b[0;34m)\u001b[0m\u001b[0;34m\u001b[0m\u001b[0m\n\u001b[1;32m   2195\u001b[0m         \u001b[0mfont\u001b[0m\u001b[0;34m.\u001b[0m\u001b[0mset_size\u001b[0m\u001b[0;34m(\u001b[0m\u001b[0mprop\u001b[0m\u001b[0;34m.\u001b[0m\u001b[0mget_size_in_points\u001b[0m\u001b[0;34m(\u001b[0m\u001b[0;34m)\u001b[0m\u001b[0;34m,\u001b[0m \u001b[0;36m72\u001b[0m\u001b[0;34m)\u001b[0m\u001b[0;34m\u001b[0m\u001b[0m\n",
      "\u001b[0;32m~/anaconda3/lib/python3.6/site-packages/matplotlib/font_manager.py\u001b[0m in \u001b[0;36mget_font\u001b[0;34m(filename, hinting_factor)\u001b[0m\n\u001b[1;32m   1389\u001b[0m     \u001b[0;32mif\u001b[0m \u001b[0mhinting_factor\u001b[0m \u001b[0;32mis\u001b[0m \u001b[0;32mNone\u001b[0m\u001b[0;34m:\u001b[0m\u001b[0;34m\u001b[0m\u001b[0m\n\u001b[1;32m   1390\u001b[0m         \u001b[0mhinting_factor\u001b[0m \u001b[0;34m=\u001b[0m \u001b[0mrcParams\u001b[0m\u001b[0;34m[\u001b[0m\u001b[0;34m'text.hinting_factor'\u001b[0m\u001b[0;34m]\u001b[0m\u001b[0;34m\u001b[0m\u001b[0m\n\u001b[0;32m-> 1391\u001b[0;31m     \u001b[0;32mreturn\u001b[0m \u001b[0m_get_font\u001b[0m\u001b[0;34m(\u001b[0m\u001b[0mfilename\u001b[0m\u001b[0;34m,\u001b[0m \u001b[0mhinting_factor\u001b[0m\u001b[0;34m)\u001b[0m\u001b[0;34m\u001b[0m\u001b[0m\n\u001b[0m\u001b[1;32m   1392\u001b[0m \u001b[0;34m\u001b[0m\u001b[0m\n\u001b[1;32m   1393\u001b[0m \u001b[0;34m\u001b[0m\u001b[0m\n",
      "\u001b[0;31mFileNotFoundError\u001b[0m: [Errno 2] No such file or directory: 'Helvetica 400.ttf'"
     ]
    }
   ],
   "source": [
    "#visualization of diversity\n",
    "fontprop=fm.FontProperties(fname=\"Helvetica 400.ttf\",size=19)\n",
    "\n",
    "plt.rcParams[\"figure.figsize\"] = (22,13)\n",
    "# #dispersions.reverse()\n",
    "# c_lst=[plt.cm.BrBG(0)]\n",
    "c_lst=[plt.cm.PRGn(0.18)]\n",
    "c_lst += [plt.cm.viridis(a) for a in np.linspace(0.4, 1, len(dispersions)-1)]\n",
    "names = [x[0] for x in dispersions]\n",
    "xs = [x[1] for x in dispersions]\n",
    "plt.barh(range(len(xs)-1), xs[:-1], color=c_lst)\n",
    "plt.xlim([0.2, 0.6])\n",
    "plt.xlabel(r'$Diversity$', fontsize=35)\n",
    "plt.yticks(range(len(xs)), names)\n",
    "from matplotlib.pyplot import gca\n",
    "ax = gca()\n",
    "ax.set_yticks(range(len(xs)-1))\n",
    "ax.set_yticklabels(names[:-1], fontproperties=fontprop)\n",
    "plt.annotate(s='', xy=(0.57,-0.5), xytext=(0.57,26), arrowprops=dict(arrowstyle='<->', lw='3'))\n",
    "plt.text(0.58,24,'Specialized', fontsize=35)\n",
    "plt.text(0.58,1,'Generalized', fontsize=35)\n",
    "plt.xticks(fontsize=30)\n",
    "plt.yticks(fontsize=30)\n",
    "ax.spines['top'].set_visible(False)\n",
    "ax.spines['right'].set_visible(False)\n",
    "ax.spines['bottom'].set_visible(False)\n",
    "ax.spines['left'].set_visible(False)\n",
    "\n",
    "plt.show()\n",
    "\n"
   ]
  },
  {
   "cell_type": "code",
   "execution_count": null,
   "metadata": {},
   "outputs": [],
   "source": []
  }
 ],
 "metadata": {
  "kernelspec": {
   "display_name": "Python 3",
   "language": "python",
   "name": "python3"
  },
  "language_info": {
   "codemirror_mode": {
    "name": "ipython",
    "version": 3
   },
   "file_extension": ".py",
   "mimetype": "text/x-python",
   "name": "python",
   "nbconvert_exporter": "python",
   "pygments_lexer": "ipython3",
   "version": "3.6.3"
  }
 },
 "nbformat": 4,
 "nbformat_minor": 4
}
