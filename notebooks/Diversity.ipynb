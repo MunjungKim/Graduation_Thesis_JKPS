{
 "cells": [
  {
   "cell_type": "code",
   "execution_count": 21,
   "metadata": {},
   "outputs": [],
   "source": [
    "from scipy.spatial import distance\n",
    "import pickle\n",
    "import numpy as np\n",
    "\n",
    "import colorcet as cc\n",
    "\n",
    "import matplotlib.pyplot as plt\n",
    "from matplotlib.ticker import StrMethodFormatter\n",
    "import matplotlib.font_manager as fm\n",
    "\n",
    "import pandas as pd"
   ]
  },
  {
   "cell_type": "markdown",
   "metadata": {},
   "source": [
    "# Data exploration"
   ]
  },
  {
   "cell_type": "code",
   "execution_count": 3,
   "metadata": {},
   "outputs": [],
   "source": [
    "#raw data\n",
    "with open('/home/balla/yeoncham/data/nkis.pkl', 'rb') as f:\n",
    "    data = pickle.load(f)"
   ]
  },
  {
   "cell_type": "code",
   "execution_count": 4,
   "metadata": {},
   "outputs": [
    {
     "data": {
      "text/html": [
       "<div>\n",
       "<style scoped>\n",
       "    .dataframe tbody tr th:only-of-type {\n",
       "        vertical-align: middle;\n",
       "    }\n",
       "\n",
       "    .dataframe tbody tr th {\n",
       "        vertical-align: top;\n",
       "    }\n",
       "\n",
       "    .dataframe thead th {\n",
       "        text-align: right;\n",
       "    }\n",
       "</style>\n",
       "<table border=\"1\" class=\"dataframe\">\n",
       "  <thead>\n",
       "    <tr style=\"text-align: right;\">\n",
       "      <th></th>\n",
       "      <th>보고서명</th>\n",
       "      <th>등록기관</th>\n",
       "      <th>출판년도</th>\n",
       "      <th>국문초록</th>\n",
       "      <th>핵심키워드</th>\n",
       "      <th>전체</th>\n",
       "    </tr>\n",
       "  </thead>\n",
       "  <tbody>\n",
       "    <tr>\n",
       "      <td>0</td>\n",
       "      <td>[세기, 생물, 산업, 창조, 일본, 정부, 기본, 전략, 프로젝트]</td>\n",
       "      <td>과학기술정책연구원</td>\n",
       "      <td>2000</td>\n",
       "      <td>[[지금, 경제, 구조, 변혁, 창조, 행동, 계획, 월, 각료, 회의, 결정, 라...</td>\n",
       "      <td>[바이오테크놀로지, 산업, 세기, 생물, 산업, 창조, 일본, 정부, 기본, 전략,...</td>\n",
       "      <td>[세기, 생물, 산업, 창조, 일본, 정부, 기본, 전략, 프로젝트, 지금, 경제,...</td>\n",
       "    </tr>\n",
       "    <tr>\n",
       "      <td>1</td>\n",
       "      <td>[EU, 연구, 개발, 정책, 동향]</td>\n",
       "      <td>과학기술정책연구원</td>\n",
       "      <td>2000</td>\n",
       "      <td>[[EU, 미국, 일본, 세계, 과학, 기술, 발전, 주도, 국가, OECD, 연구...</td>\n",
       "      <td>[EU, 연구, 개발, 정책, 동향]</td>\n",
       "      <td>[EU, 연구, 개발, 정책, 동향, EU, 미국, 일본, 세계, 과학, 기술, 발...</td>\n",
       "    </tr>\n",
       "    <tr>\n",
       "      <td>2</td>\n",
       "      <td>[PBS, 관련, 개념, 적용, 조건]</td>\n",
       "      <td>과학기술정책연구원</td>\n",
       "      <td>2000</td>\n",
       "      <td>[[년, 세계, 시장, 경쟁, 환경, 심화, 국가, 경쟁력, 노력, 가속, 시작],...</td>\n",
       "      <td>[PBS, 개념, 적용, 조건]</td>\n",
       "      <td>[PBS, 관련, 개념, 적용, 조건, 년, 세계, 시장, 경쟁, 환경, 심화, 국...</td>\n",
       "    </tr>\n",
       "    <tr>\n",
       "      <td>3</td>\n",
       "      <td>[알앤디, 평가, 시스템, 이론, 체계, 구축, 적용, 방, 안, 연구]</td>\n",
       "      <td>과학기술정책연구원</td>\n",
       "      <td>2000</td>\n",
       "      <td>[[연구, 연구, 개발, 활동, 연구, 개발, 평가, 자체, 효율, 결과, 효과, ...</td>\n",
       "      <td>[알앤디, 평가, 시스템, 이론, 체계, 구축, 적용, 방안]</td>\n",
       "      <td>[알앤디, 평가, 시스템, 이론, 체계, 구축, 적용, 방, 안, 연구, 연구, 연...</td>\n",
       "    </tr>\n",
       "    <tr>\n",
       "      <td>4</td>\n",
       "      <td>[개방, 모듈, 기술, 패러다임, 대응, 기술, 혁신, 전략, 리눅스, 중심]</td>\n",
       "      <td>과학기술정책연구원</td>\n",
       "      <td>2000</td>\n",
       "      <td>[[인터넷, 발전, 리눅스, 확산, 기술, 개발, 환경, 개방, openness, ...</td>\n",
       "      <td>[개방, 모듈, 기술, 패러다임, 기술, 혁신, 리눅스]</td>\n",
       "      <td>[개방, 모듈, 기술, 패러다임, 대응, 기술, 혁신, 전략, 리눅스, 중심, 인터...</td>\n",
       "    </tr>\n",
       "    <tr>\n",
       "      <td>...</td>\n",
       "      <td>...</td>\n",
       "      <td>...</td>\n",
       "      <td>...</td>\n",
       "      <td>...</td>\n",
       "      <td>...</td>\n",
       "      <td>...</td>\n",
       "    </tr>\n",
       "    <tr>\n",
       "      <td>21392</td>\n",
       "      <td>[생태, 공학, 기법, 활용, 지역, 단위, 생태, 보호, 지역, 확대, 방안]</td>\n",
       "      <td>한국환경정책·평가연구원</td>\n",
       "      <td>2018</td>\n",
       "      <td>[[연구, 생태, 보전, 생물, 다양, 보전, 증진, 생태, 지속, 가능, 이용, ...</td>\n",
       "      <td>[보호, 지역, 국립, 공원, 생태, 공학, 지역, 생태, 토지, 이용, 변화, 제주도]</td>\n",
       "      <td>[생태, 공학, 기법, 활용, 지역, 단위, 생태, 보호, 지역, 확대, 방안, 연...</td>\n",
       "    </tr>\n",
       "    <tr>\n",
       "      <td>21393</td>\n",
       "      <td>[가뭄, 지역, 농촌, 용수, 개발, 계획, 전략, 환경영향평가, 개선, 방안, 연...</td>\n",
       "      <td>한국환경정책·평가연구원</td>\n",
       "      <td>2018</td>\n",
       "      <td>[[연구, 가뭄, 지역, 농촌, 용수, 개발, 계획, 친환경, 지속, 가능, 이수,...</td>\n",
       "      <td>[전략, 환경영향평가, 농촌, 용수, 개발, 계획, 지하수, 지표수, 복합, 이용,...</td>\n",
       "      <td>[가뭄, 지역, 농촌, 용수, 개발, 계획, 전략, 환경영향평가, 개선, 방안, 연...</td>\n",
       "    </tr>\n",
       "    <tr>\n",
       "      <td>21394</td>\n",
       "      <td>[원자력, 시설, 해체, 부지, 사용, 환경, 관리, 전략, 토양, 지하수, 분야,...</td>\n",
       "      <td>한국환경정책·평가연구원</td>\n",
       "      <td>2018</td>\n",
       "      <td>[[고리, 호기, 영구, 정지, 해체, 확정, 월성, 호기, 조기, 폐쇄, 결정],...</td>\n",
       "      <td>[원자력, 시설, 해체, 사용, 환경, 관리, 토양, 지하수]</td>\n",
       "      <td>[원자력, 시설, 해체, 부지, 사용, 환경, 관리, 전략, 토양, 지하수, 분야,...</td>\n",
       "    </tr>\n",
       "    <tr>\n",
       "      <td>21395</td>\n",
       "      <td>[물, 환경, 개선, 용, 배수, 관리, 활용, 방안]</td>\n",
       "      <td>한국환경정책·평가연구원</td>\n",
       "      <td>2018</td>\n",
       "      <td>[[그동안, 우리나라, 하천, 관리, 재정, 투자, 대하, 추진], [대하, 본류,...</td>\n",
       "      <td>[물, 환경, 용수, 배수, 농업용수, 비점, 오염, 수질, 부하, 물, 관리, 일원]</td>\n",
       "      <td>[물, 환경, 개선, 용, 배수, 관리, 활용, 방안, 그동안, 우리나라, 하천, ...</td>\n",
       "    </tr>\n",
       "    <tr>\n",
       "      <td>21396</td>\n",
       "      <td>[농촌, 지역, 환경, 복지, 증진, 가축, 매몰, 피해, 관리, 방안, 연구]</td>\n",
       "      <td>한국환경정책·평가연구원</td>\n",
       "      <td>2018</td>\n",
       "      <td>[[과제, 다양, 복합, 환경, 경제, 사회, 피해, 최소, 적극, 대안, 마련, ...</td>\n",
       "      <td>[농촌, 지역, 환경, 복지, 가축, 매몰, 지역, 맞춤, 정책, 리빙, 랩, 협의...</td>\n",
       "      <td>[농촌, 지역, 환경, 복지, 증진, 가축, 매몰, 피해, 관리, 방안, 연구, 과...</td>\n",
       "    </tr>\n",
       "  </tbody>\n",
       "</table>\n",
       "<p>21397 rows × 6 columns</p>\n",
       "</div>"
      ],
      "text/plain": [
       "                                                    보고서명          등록기관  출판년도  \\\n",
       "0                 [세기, 생물, 산업, 창조, 일본, 정부, 기본, 전략, 프로젝트]     과학기술정책연구원  2000   \n",
       "1                                   [EU, 연구, 개발, 정책, 동향]     과학기술정책연구원  2000   \n",
       "2                                  [PBS, 관련, 개념, 적용, 조건]     과학기술정책연구원  2000   \n",
       "3               [알앤디, 평가, 시스템, 이론, 체계, 구축, 적용, 방, 안, 연구]     과학기술정책연구원  2000   \n",
       "4            [개방, 모듈, 기술, 패러다임, 대응, 기술, 혁신, 전략, 리눅스, 중심]     과학기술정책연구원  2000   \n",
       "...                                                  ...           ...   ...   \n",
       "21392       [생태, 공학, 기법, 활용, 지역, 단위, 생태, 보호, 지역, 확대, 방안]  한국환경정책·평가연구원  2018   \n",
       "21393  [가뭄, 지역, 농촌, 용수, 개발, 계획, 전략, 환경영향평가, 개선, 방안, 연...  한국환경정책·평가연구원  2018   \n",
       "21394  [원자력, 시설, 해체, 부지, 사용, 환경, 관리, 전략, 토양, 지하수, 분야,...  한국환경정책·평가연구원  2018   \n",
       "21395                     [물, 환경, 개선, 용, 배수, 관리, 활용, 방안]  한국환경정책·평가연구원  2018   \n",
       "21396       [농촌, 지역, 환경, 복지, 증진, 가축, 매몰, 피해, 관리, 방안, 연구]  한국환경정책·평가연구원  2018   \n",
       "\n",
       "                                                    국문초록  \\\n",
       "0      [[지금, 경제, 구조, 변혁, 창조, 행동, 계획, 월, 각료, 회의, 결정, 라...   \n",
       "1      [[EU, 미국, 일본, 세계, 과학, 기술, 발전, 주도, 국가, OECD, 연구...   \n",
       "2      [[년, 세계, 시장, 경쟁, 환경, 심화, 국가, 경쟁력, 노력, 가속, 시작],...   \n",
       "3      [[연구, 연구, 개발, 활동, 연구, 개발, 평가, 자체, 효율, 결과, 효과, ...   \n",
       "4      [[인터넷, 발전, 리눅스, 확산, 기술, 개발, 환경, 개방, openness, ...   \n",
       "...                                                  ...   \n",
       "21392  [[연구, 생태, 보전, 생물, 다양, 보전, 증진, 생태, 지속, 가능, 이용, ...   \n",
       "21393  [[연구, 가뭄, 지역, 농촌, 용수, 개발, 계획, 친환경, 지속, 가능, 이수,...   \n",
       "21394  [[고리, 호기, 영구, 정지, 해체, 확정, 월성, 호기, 조기, 폐쇄, 결정],...   \n",
       "21395  [[그동안, 우리나라, 하천, 관리, 재정, 투자, 대하, 추진], [대하, 본류,...   \n",
       "21396  [[과제, 다양, 복합, 환경, 경제, 사회, 피해, 최소, 적극, 대안, 마련, ...   \n",
       "\n",
       "                                                   핵심키워드  \\\n",
       "0      [바이오테크놀로지, 산업, 세기, 생물, 산업, 창조, 일본, 정부, 기본, 전략,...   \n",
       "1                                   [EU, 연구, 개발, 정책, 동향]   \n",
       "2                                      [PBS, 개념, 적용, 조건]   \n",
       "3                     [알앤디, 평가, 시스템, 이론, 체계, 구축, 적용, 방안]   \n",
       "4                        [개방, 모듈, 기술, 패러다임, 기술, 혁신, 리눅스]   \n",
       "...                                                  ...   \n",
       "21392  [보호, 지역, 국립, 공원, 생태, 공학, 지역, 생태, 토지, 이용, 변화, 제주도]   \n",
       "21393  [전략, 환경영향평가, 농촌, 용수, 개발, 계획, 지하수, 지표수, 복합, 이용,...   \n",
       "21394                 [원자력, 시설, 해체, 사용, 환경, 관리, 토양, 지하수]   \n",
       "21395   [물, 환경, 용수, 배수, 농업용수, 비점, 오염, 수질, 부하, 물, 관리, 일원]   \n",
       "21396  [농촌, 지역, 환경, 복지, 가축, 매몰, 지역, 맞춤, 정책, 리빙, 랩, 협의...   \n",
       "\n",
       "                                                      전체  \n",
       "0      [세기, 생물, 산업, 창조, 일본, 정부, 기본, 전략, 프로젝트, 지금, 경제,...  \n",
       "1      [EU, 연구, 개발, 정책, 동향, EU, 미국, 일본, 세계, 과학, 기술, 발...  \n",
       "2      [PBS, 관련, 개념, 적용, 조건, 년, 세계, 시장, 경쟁, 환경, 심화, 국...  \n",
       "3      [알앤디, 평가, 시스템, 이론, 체계, 구축, 적용, 방, 안, 연구, 연구, 연...  \n",
       "4      [개방, 모듈, 기술, 패러다임, 대응, 기술, 혁신, 전략, 리눅스, 중심, 인터...  \n",
       "...                                                  ...  \n",
       "21392  [생태, 공학, 기법, 활용, 지역, 단위, 생태, 보호, 지역, 확대, 방안, 연...  \n",
       "21393  [가뭄, 지역, 농촌, 용수, 개발, 계획, 전략, 환경영향평가, 개선, 방안, 연...  \n",
       "21394  [원자력, 시설, 해체, 부지, 사용, 환경, 관리, 전략, 토양, 지하수, 분야,...  \n",
       "21395  [물, 환경, 개선, 용, 배수, 관리, 활용, 방안, 그동안, 우리나라, 하천, ...  \n",
       "21396  [농촌, 지역, 환경, 복지, 증진, 가축, 매몰, 피해, 관리, 방안, 연구, 과...  \n",
       "\n",
       "[21397 rows x 6 columns]"
      ]
     },
     "execution_count": 4,
     "metadata": {},
     "output_type": "execute_result"
    }
   ],
   "source": [
    "data # report name, report institution, yeaer, abstract, keyword,"
   ]
  },
  {
   "cell_type": "code",
   "execution_count": 5,
   "metadata": {},
   "outputs": [],
   "source": [
    "#learned doc2vec\n",
    "from gensim.models.doc2vec import Doc2Vec, TaggedDocument\n",
    "model = Doc2Vec.load('/home/balla/yeoncham/data/test') "
   ]
  },
  {
   "cell_type": "code",
   "execution_count": 6,
   "metadata": {},
   "outputs": [
    {
     "name": "stdout",
     "output_type": "stream",
     "text": [
      "The number of documents is  21397\n",
      "The dimension of embedded vectors is 200\n"
     ]
    }
   ],
   "source": [
    "emb_vectors = np.array([model.docvecs[i] for i in range(model.docvecs.count)])\n",
    "print(\"The number of documents is \",len(emb_vectors))\n",
    "print(\"The dimension of embedded vectors is\", len(emb_vectors[0]))"
   ]
  },
  {
   "cell_type": "code",
   "execution_count": 13,
   "metadata": {},
   "outputs": [
    {
     "name": "stdout",
     "output_type": "stream",
     "text": [
      "The number of affiliation in english classified list is 27\n",
      "The number of affiliation in english classified abbreviation list is 27\n",
      "['에너지경제연구원', '한국교육개발원', '한국법제연구원', '한국청소년정책연구원', '한국농촌경제연구원', '한국해양수산개발원', '산업연구원', '한국환경정책·평가연구원', '대외경제정책연구원', '한국직업능력개발원', '한국교육과정평가원', '경제·인문사회연구회', '건축도시공간연구소', '한국교통연구원', 'KDI국제정책대학원', '한국개발연구원', '한국노동연구원', '한국조세재정연구원', '과학기술정책연구원', '국토연구원', '육아정책연구소', '한국형사정책연구원', '한국보건사회연구원', '한국행정연구원', '정보통신정책연구원', '한국여성정책연구원', '통일연구원']\n"
     ]
    }
   ],
   "source": [
    "#classified with related subject\n",
    "unique_affiliation_classified =['한국형사정책연구원','한국법제연구원','KDI국제정책대학원','대외경제정책연구원', '통일연구원','건축도시공간연구소', '한국교통연구원',  '국토연구원', '에너지경제연구원','한국해양수산개발원', '한국농촌경제연구원','한국환경정책·평가연구원','과학기술정책연구원', '정보통신정책연구원','산업연구원','한국개발연구원', '한국조세재정연구원','한국노동연구원','한국직업능력개발원', '한국교육개발원','한국교육과정평가원','한국청소년정책연구원', '육아정책연구소', '한국여성정책연구원', '한국보건사회연구원','경제·인문사회연구회', '한국행정연구원']\n",
    "\n",
    "#english name of unique_affiliation_classified\n",
    "unique_affiliation_classified_eng= ['Korean Institute of Criminology','Korea Legislation Research Institute','KDI School of Public Policy and Management','Korea Institute for International Economic Policy','Korea Institute for National Unification','Architecture & Urban Research Institute','The Korea Transport Institute','Korea Research Institute for Human Settlements','Korea Energy Economics Institute','Korea Maritime Institute','Korea Rural Economic Institute','Korea Environment Institute','Science & Technology Policy Institute','Korea Information Society Development Institute','Korea Institute for Industrial Economics & Trade','Korea Development Institute','Korea Institute of Public Finance','Korea Labour Institute','Korea Research Institute for Vocational Education and Training','Korean Educational Development Institute ','Korea Institute of Curriculum & Evaluation', 'National Youth Policy Institute','Korea Institute of Child Care and Education','Korean Women\\'s Development Institute','Korea Institute for Health and Social Affairs','National Research Council for Economics, Humanities and Social Sciences','Korea Institute of Public Administration']\n",
    "print(\"The number of affiliation in english classified list is\",len(unique_affiliation_classified_eng))\n",
    "\n",
    "#english abbreviation name of unique_affiliation_classified2\n",
    "unique_affiliation_classified_eng_abb=['KIC','KLRI','KDI School','KIEP','KINU','AURI','KOTI','KRIHS','KEEI','KMI','KREI','KEI','STEPI','KISDI','KIET','KDI','KIPF','KLI','KRIVET','KEDI','KICE','NYPI','KICCE','KWDI','KIHASA','NRC','KIPA']\n",
    "print(\"The number of affiliation in english classified abbreviation list is\",len(unique_affiliation_classified_eng_abb))\n",
    "\n",
    "unique_affiliation = list(set(data['등록기관']))\n",
    "print(unique_affiliation)"
   ]
  },
  {
   "cell_type": "code",
   "execution_count": 16,
   "metadata": {},
   "outputs": [],
   "source": [
    "# index number of each research institute\n",
    "index_by_affiliation = {}\n",
    "for affiliation in unique_affiliation:\n",
    "    index_by_affiliation[affiliation] = np.where(np.array(list(data['등록기관'])) == affiliation)"
   ]
  },
  {
   "cell_type": "code",
   "execution_count": 17,
   "metadata": {},
   "outputs": [],
   "source": [
    "dispersions = []\n",
    "for i, name in enumerate(unique_affiliation_classified):\n",
    "    vecs = np.array(emb_vectors[index_by_affiliation[name]])\n",
    "    mean_cordinate = np.mean(vecs,axis=0)\n",
    "    coisne_distances = [distance.cosine(vec, mean_cordinate) for vec in vecs]\n",
    "    dispersions.append((unique_affiliation_classified_eng_abb[unique_affiliation_classified.index(name)], np.mean(coisne_distances)))"
   ]
  },
  {
   "cell_type": "code",
   "execution_count": 18,
   "metadata": {},
   "outputs": [
    {
     "name": "stdout",
     "output_type": "stream",
     "text": [
      "[('KDI국제정책대학원', 0.19935879111289978), ('한국교육과정평가원', 0.42279573569558265), ('한국농촌경제연구원', 0.43409533364231473), ('통일연구원', 0.43538667032162087), ('건축도시공간연구소', 0.4397143735488256), ('한국교통연구원', 0.44306564492744227), ('한국형사정책연구원', 0.4448053899709836), ('한국청소년정책연구원', 0.44916786703854633), ('한국개발연구원', 0.4509210711182894), ('한국조세재정연구원', 0.4529680862539896), ('육아정책연구소', 0.4587669728921269), ('산업연구원', 0.46235898109473494), ('한국보건사회연구원', 0.46316410613545217), ('한국해양수산개발원', 0.47470055815577505), ('경제·인문사회연구회', 0.47824376786736367), ('한국직업능력개발원', 0.48385012879609424), ('에너지경제연구원', 0.4839570855454255), ('한국노동연구원', 0.49218745981201983), ('정보통신정책연구원', 0.49514635664130013), ('한국교육개발원', 0.4953348372847825), ('대외경제정책연구원', 0.49939270280710946), ('한국법제연구원', 0.49963371457760586), ('과학기술정책연구원', 0.5083055506245449), ('한국환경정책·평가연구원', 0.5211571665047997), ('한국행정연구원', 0.5282562750299439), ('국토연구원', 0.529276582992044), ('한국여성정책연구원', 0.5401107849309854)]\n"
     ]
    }
   ],
   "source": [
    "#affiliation ranking according to diversity in korean\n",
    "dispersions_kor = []\n",
    "for i, name in enumerate(unique_affiliation_classified):\n",
    "    vecs = np.array(emb_vectors[index_by_affiliation[name]])\n",
    "    mean_cordinate = np.mean(vecs,axis=0)\n",
    "    coisne_distances = [distance.cosine(vec, mean_cordinate) for vec in vecs]\n",
    "    dispersions_kor.append((name, np.mean(coisne_distances)))\n",
    "dispersions_kor.sort(key=lambda x: x[1])\n",
    "print(dispersions_kor)"
   ]
  },
  {
   "cell_type": "code",
   "execution_count": 19,
   "metadata": {},
   "outputs": [],
   "source": [
    "dispersions.sort(key=lambda x: x[1],reverse=True)"
   ]
  },
  {
   "cell_type": "code",
   "execution_count": 23,
   "metadata": {},
   "outputs": [
    {
     "data": {
      "image/png": "[encoded data removed]",
      "text/plain": [
       "<Figure size 1584x936 with 1 Axes>"
      ]
     },
     "metadata": {},
     "output_type": "display_data"
    }
   ],
   "source": [
    "#visualization of diversity\n",
    "fontprop=fm.FontProperties(fname=\"/home/balla/yeoncham/data/Helvetica 400.ttf\",size=19)\n",
    "\n",
    "plt.rcParams[\"figure.figsize\"] = (22,13)\n",
    "# #dispersions.reverse()\n",
    "# c_lst=[plt.cm.BrBG(0)]\n",
    "c_lst=[plt.cm.PRGn(0.18)]\n",
    "c_lst += [plt.cm.viridis(a) for a in np.linspace(0.4, 1, len(dispersions)-1)]\n",
    "names = [x[0] for x in dispersions]\n",
    "xs = [x[1] for x in dispersions]\n",
    "plt.barh(range(len(xs)-1), xs[:-1], color=c_lst)\n",
    "plt.xlim([0.2, 0.6])\n",
    "plt.xlabel(r'$Diversity$', fontsize=35)\n",
    "plt.yticks(range(len(xs)), names)\n",
    "from matplotlib.pyplot import gca\n",
    "ax = gca()\n",
    "ax.set_yticks(range(len(xs)-1))\n",
    "ax.set_yticklabels(names[:-1], fontproperties=fontprop)\n",
    "plt.annotate(s='', xy=(0.57,-0.5), xytext=(0.57,26), arrowprops=dict(arrowstyle='<->', lw='3'))\n",
    "plt.text(0.58,24,'Specialized', fontsize=35)\n",
    "plt.text(0.58,1,'Generalized', fontsize=35)\n",
    "plt.xticks(fontsize=30)\n",
    "plt.yticks(fontsize=30)\n",
    "ax.spines['top'].set_visible(False)\n",
    "ax.spines['right'].set_visible(False)\n",
    "ax.spines['bottom'].set_visible(False)\n",
    "ax.spines['left'].set_visible(False)\n",
    "\n",
    "plt.show()\n",
    "\n"
   ]
  },
  {
   "cell_type": "code",
   "execution_count": null,
   "metadata": {},
   "outputs": [],
   "source": []
  }
 ],
 "metadata": {
  "kernelspec": {
   "display_name": "Python 3",
   "language": "python",
   "name": "python3"
  },
  "language_info": {
   "codemirror_mode": {
    "name": "ipython",
    "version": 3
   },
   "file_extension": ".py",
   "mimetype": "text/x-python",
   "name": "python",
   "nbconvert_exporter": "python",
   "pygments_lexer": "ipython3",
   "version": "3.6.3"
  }
 },
 "nbformat": 4,
 "nbformat_minor": 4
}
