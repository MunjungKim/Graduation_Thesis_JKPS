{
 "cells": [
  {
   "cell_type": "markdown",
   "metadata": {},
   "source": [
    "# Data Exploration"
   ]
  },
  {
   "cell_type": "code",
   "execution_count": 31,
   "metadata": {},
   "outputs": [],
   "source": [
    "import pickle\n",
    "import numpy as np\n",
    "import colorcet as cc\n",
    "import matplotlib.pyplot as plt\n",
    "from scipy.spatial import distance\n",
    "import colormap as cmaps\n",
    "import matplotlib.font_manager as fm"
   ]
  },
  {
   "cell_type": "code",
   "execution_count": 2,
   "metadata": {},
   "outputs": [],
   "source": [
    "#raw data\n",
    "with open('/home/balla/yeoncham/data/nkis.pkl', 'rb') as f:\n",
    "    data = pickle.load(f)"
   ]
  },
  {
   "cell_type": "code",
   "execution_count": 3,
   "metadata": {},
   "outputs": [],
   "source": [
    "#learned doc2vec\n",
    "from gensim.models.doc2vec import Doc2Vec, TaggedDocument\n",
    "model = Doc2Vec.load('/home/balla/yeoncham/data/test') "
   ]
  },
  {
   "cell_type": "code",
   "execution_count": 9,
   "metadata": {},
   "outputs": [
    {
     "name": "stdout",
     "output_type": "stream",
     "text": [
      "The number of documents is  21397\n",
      "The dimension of embedded vectors is 200\n"
     ]
    }
   ],
   "source": [
    "emb_vectors = np.array([model.docvecs[i] for i in range(model.docvecs.count)])\n",
    "print(\"The number of documents is \",len(emb_vectors))\n",
    "print(\"The dimension of embedded vectors is\", len(emb_vectors[0]))"
   ]
  },
  {
   "cell_type": "markdown",
   "metadata": {},
   "source": [
    "## set institute name"
   ]
  },
  {
   "cell_type": "code",
   "execution_count": 5,
   "metadata": {},
   "outputs": [],
   "source": [
    "#Korean - English Institute set\n",
    "subject_list={'KDI국제정책대학원': 'KDIschool',\n",
    " '건축도시공간연구소': 'AURI',\n",
    " '경제·인문사회연구회': 'NRC',\n",
    " '과학기술정책연구원': 'STEPI',\n",
    " '국토연구원': 'KRIHS',\n",
    " '대외경제정책연구원': 'KIEP',\n",
    " '산업연구원': 'KIET',\n",
    " '에너지경제연구원': 'KEEI',\n",
    " '육아정책연구소': 'KICCE',\n",
    " '정보통신정책연구원': 'KISDI',\n",
    " '통일연구원': 'KINU',\n",
    " '한국개발연구원': 'KDI',\n",
    " '한국교육개발원': 'KEDI',\n",
    " '한국교육과정평가원': 'KICE',\n",
    " '한국교통연구원': 'KOTI',\n",
    " '한국노동연구원': 'KLI',\n",
    " '한국농촌경제연구원': 'KREI',\n",
    " '한국법제연구원': 'KLRI',\n",
    " '한국보건사회연구원': 'KIHASA',\n",
    " '한국여성정책연구원': 'KWDI',\n",
    " '한국조세재정연구원': 'KIPF',\n",
    " '한국직업능력개발원': 'KRIVET',\n",
    " '한국청소년정책연구원': 'NYPI',\n",
    " '한국해양수산개발원': 'KMI',\n",
    " '한국행정연구원': 'KIPA',\n",
    " '한국형사정책연구원': 'KIC',\n",
    " '한국환경정책·평가연구원': 'KEI'}"
   ]
  },
  {
   "cell_type": "code",
   "execution_count": 11,
   "metadata": {},
   "outputs": [],
   "source": [
    "#classified with related subject\n",
    "unique_affiliation_classified =['한국형사정책연구원','한국법제연구원','KDI국제정책대학원','대외경제정책연구원', '통일연구원','건축도시공간연구소', '한국교통연구원',  '국토연구원', '에너지경제연구원','한국해양수산개발원', '한국농촌경제연구원','한국환경정책·평가연구원','과학기술정책연구원', '정보통신정책연구원','산업연구원','한국개발연구원', '한국조세재정연구원','한국노동연구원','한국직업능력개발원', '한국교육개발원','한국교육과정평가원','한국청소년정책연구원', '육아정책연구소', '한국여성정책연구원', '한국보건사회연구원','경제·인문사회연구회', '한국행정연구원']\n",
    "\n",
    "#classification by NRC classification\n",
    "unique_affiliation_classified2 =['한국형사정책연구원',\n",
    "'한국법제연구원',\n",
    "'한국행정연구원',\n",
    "'통일연구원',\n",
    "       \n",
    " '한국개발연구원',\n",
    "'KDI국제정책대학원',\n",
    "'한국조세재정연구원',\n",
    "'대외경제정책연구원',\n",
    "'산업연구원',#8\n",
    "\n",
    " \n",
    "'한국교통연구원', \n",
    "'건축도시공간연구소', \n",
    " '국토연구원',\n",
    "'한국농촌경제연구원',\n",
    "'한국해양수산개발원', \n",
    "'한국환경정책·평가연구원',\n",
    " '에너지경제연구원',\n",
    "\n",
    "                                 \n",
    "#16\n",
    " '정보통신정책연구원',\n",
    "'한국직업능력개발원',\n",
    "'과학기술정책연구원',\n",
    "'한국교육개발원',\n",
    "'한국교육과정평가원',\n",
    "#21\n",
    "'한국여성정책연구원',                                 \n",
    "'한국청소년정책연구원',\n",
    "'한국보건사회연구원',\n",
    " '육아정책연구소', \n",
    "'한국노동연구원',\n",
    "\n",
    "\n",
    "'경제·인문사회연구회', \n",
    "]"
   ]
  },
  {
   "cell_type": "code",
   "execution_count": null,
   "metadata": {},
   "outputs": [],
   "source": []
  },
  {
   "cell_type": "code",
   "execution_count": null,
   "metadata": {},
   "outputs": [],
   "source": []
  },
  {
   "cell_type": "code",
   "execution_count": 12,
   "metadata": {},
   "outputs": [],
   "source": [
    "# index number of each research institute\n",
    "index_by_affiliation = {}\n",
    "for affiliation in unique_affiliation_classified:\n",
    "    index_by_affiliation[affiliation] = np.where(np.array(list(data['등록기관'])) == affiliation)"
   ]
  },
  {
   "cell_type": "code",
   "execution_count": 13,
   "metadata": {},
   "outputs": [
    {
     "name": "stdout",
     "output_type": "stream",
     "text": [
      "27\n",
      "19\n",
      "28\n"
     ]
    }
   ],
   "source": [
    "year=[2000, 2001, 2002, 2003, 2004, 2005, 2006, 2007, 2008, 2009, 2010, 2011, 2012, 2013, 2014, 2015, 2016, 2017, 2018]\n",
    "list_by_year=[]\n",
    "for i, name in enumerate(unique_affiliation_classified):#각 기관마다\n",
    "    index_list = index_by_affiliation[name][0]\n",
    "\n",
    "    list_paper_by_year=[]\n",
    "    for y in year:\n",
    "        list_paper_year_inst=[]#y 년도에 쓴 논문\n",
    "        for k in index_list:\n",
    "            if data.loc[k]['출판년도'] == y:\n",
    "                list_paper_year_inst.append(k)\n",
    "        list_paper_by_year.append(list_paper_year_inst)\n",
    "    list_by_year.append(list_paper_by_year)\n",
    "print(len(list_by_year))\n",
    "print(len(list_by_year[0])) # first aff\n",
    "print(len(list_by_year[0][0])) #1번째 기관, 첫해 논문 리스트"
   ]
  },
  {
   "cell_type": "code",
   "execution_count": 18,
   "metadata": {},
   "outputs": [],
   "source": [
    "#mean vector of papers pulished in every year\n",
    "mean_per_year_inst = {}\n",
    "\n",
    "for i, name in enumerate(unique_affiliation_classified):\n",
    "    \n",
    "    mean_inst=[]\n",
    "    \n",
    "    for k in range(len(year)):\n",
    "        # stop if the institution didn't make any report\n",
    "        if not list_by_year[i][k]:\n",
    "            mean_inst=[]\n",
    "            break \n",
    "            \n",
    "        vecs = np.array(emb_vectors[list_by_year[i][k]])\n",
    "        mean_cordinate = np.mean(vecs,axis=0)\n",
    "        mean_inst.append(mean_cordinate)\n",
    "\n",
    "\n",
    "    mean_per_year_inst.update({subject_list[name]:mean_inst})\n"
   ]
  },
  {
   "cell_type": "code",
   "execution_count": 24,
   "metadata": {},
   "outputs": [
    {
     "data": {
      "text/plain": [
       "dict_keys(['KIC', 'KLRI', 'KDIschool', 'KIEP', 'KINU', 'AURI', 'KOTI', 'KRIHS', 'KEEI', 'KMI', 'KREI', 'KEI', 'STEPI', 'KISDI', 'KIET', 'KDI', 'KIPF', 'KLI', 'KRIVET', 'KEDI', 'KICE', 'NYPI', 'KICCE', 'KWDI', 'KIHASA', 'NRC', 'KIPA'])"
      ]
     },
     "execution_count": 24,
     "metadata": {},
     "output_type": "execute_result"
    }
   ],
   "source": [
    "mean_per_year_inst.keys()"
   ]
  },
  {
   "cell_type": "code",
   "execution_count": 27,
   "metadata": {},
   "outputs": [
    {
     "name": "stdout",
     "output_type": "stream",
     "text": [
      "[('KIC', 0.12293922901153564), ('KLRI', 0.11108309030532837), ('KIEP', 0.16795295476913452), ('KINU', 0.0885845422744751), ('KOTI', 0.09021484851837158), ('KRIHS', 0.12198549509048462), ('KEEI', 0.17003053426742554), ('KMI', 0.14475756883621216), ('KREI', 0.10944867134094238), ('KEI', 0.15660494565963745), ('STEPI', 0.1448441743850708), ('KISDI', 0.2995995879173279), ('KIET', 0.10923343896865845), ('KDI', 0.395732045173645), ('KIPF', 0.11499232053756714), ('KLI', 0.14804208278656006), ('KRIVET', 0.1576102375984192), ('KEDI', 0.21793973445892334), ('KICE', 0.059961557388305664), ('NYPI', 0.16647446155548096), ('KWDI', 0.29814696311950684), ('KIHASA', 0.16904032230377197)]\n"
     ]
    }
   ],
   "source": [
    "mean_vel_list=[]\n",
    "for name in mean_per_year_inst.keys():\n",
    "    if not mean_per_year_inst[name] == []: \n",
    "        delta_list_inst=distance.cosine(mean_per_year_inst[name][18], mean_per_year_inst[name][0])\n",
    "        mean_vel_list.append((name,delta_list_inst))\n",
    "\n",
    "print((mean_vel_list))"
   ]
  },
  {
   "cell_type": "code",
   "execution_count": 28,
   "metadata": {},
   "outputs": [],
   "source": [
    "mean_vel_list.sort(key=lambda x: x[1],reverse=False)\n",
    "\n"
   ]
  },
  {
   "cell_type": "code",
   "execution_count": 32,
   "metadata": {},
   "outputs": [
    {
     "name": "stdout",
     "output_type": "stream",
     "text": [
      "['KICE', 'KINU', 'KOTI', 'KIET', 'KREI', 'KLRI', 'KIPF', 'KRIHS', 'KIC', 'KMI', 'STEPI', 'KLI', 'KEI', 'KRIVET', 'NYPI', 'KIEP', 'KIHASA', 'KEEI', 'KEDI', 'KWDI', 'KISDI', 'KDI']\n",
      "[0.059961557388305664, 0.0885845422744751, 0.09021484851837158, 0.10923343896865845, 0.10944867134094238, 0.11108309030532837, 0.11499232053756714, 0.12198549509048462, 0.12293922901153564, 0.14475756883621216, 0.1448441743850708, 0.14804208278656006, 0.15660494565963745, 0.1576102375984192, 0.16647446155548096, 0.16795295476913452, 0.16904032230377197, 0.17003053426742554, 0.21793973445892334, 0.29814696311950684, 0.2995995879173279, 0.395732045173645]\n"
     ]
    },
    {
     "data": {
      "image/png": "[encoded data removed]",
      "text/plain": [
       "<Figure size 1584x936 with 1 Axes>"
      ]
     },
     "metadata": {},
     "output_type": "display_data"
    }
   ],
   "source": [
    "\n",
    "\n",
    "fontprop=fm.FontProperties(fname=\"/home/balla/yeoncham/data/Helvetica 400.ttf\",size=19)\n",
    "plt.rcParams[\"figure.figsize\"] = (22,13)\n",
    "\n",
    "c_lst=[plt.cm.magma(a) for a in np.linspace(0.4, 0.8, len(mean_vel_list)-3)]\n",
    "# c_lst+=[plt.cm.BrBG(0)]\n",
    "# c_lst+=['#1D3664']\n",
    "# c_lst+=['#A5401C']\n",
    "c_lst+=[plt.cm.PRGn(a) for a in np.linspace(0.3, 0.2, 3)]\n",
    "\n",
    "names = [x[0] for x in mean_vel_list]\n",
    "print(names)\n",
    "xs = [x[1] for x in mean_vel_list]\n",
    "print(xs)\n",
    "\n",
    "plt.barh(range(len(xs)), xs, color=c_lst)\n",
    "plt.xlim([0, 0.45])\n",
    "plt.xlabel('Topical change', fontsize=35)\n",
    "plt.yticks(range(len(xs)), names,fontsize=30)\n",
    "from matplotlib.pyplot import gca\n",
    "ax = gca()\n",
    "ax.set_yticks(range(len(xs)))\n",
    "\n",
    "ax.set_yticklabels(names, fontproperties=fontprop,fontsize=30)\n",
    "plt.annotate(s='', xy=(0.41625,-0.62), xytext=(0.41625,22), arrowprops=dict(arrowstyle='<->', lw='3'))\n",
    "plt.text(0.4275,20,'Fast', fontsize=35)\n",
    "plt.text(0.4275,0,'Slow', fontsize=35)\n",
    "ax.spines['top'].set_visible(False)\n",
    "ax.spines['right'].set_visible(False)\n",
    "ax.spines['bottom'].set_visible(False)\n",
    "ax.spines['left'].set_visible(False)\n",
    "for tick in ax.xaxis.get_major_ticks():\n",
    "    tick.label.set_fontsize(30)\n",
    "plt.savefig('Difference_COM.pdf')\n",
    "plt.show()\n",
    "\n"
   ]
  },
  {
   "cell_type": "code",
   "execution_count": null,
   "metadata": {},
   "outputs": [],
   "source": []
  }
 ],
 "metadata": {
  "kernelspec": {
   "display_name": "Python 3",
   "language": "python",
   "name": "python3"
  },
  "language_info": {
   "codemirror_mode": {
    "name": "ipython",
    "version": 3
   },
   "file_extension": ".py",
   "mimetype": "text/x-python",
   "name": "python",
   "nbconvert_exporter": "python",
   "pygments_lexer": "ipython3",
   "version": "3.6.3"
  }
 },
 "nbformat": 4,
 "nbformat_minor": 4
}
